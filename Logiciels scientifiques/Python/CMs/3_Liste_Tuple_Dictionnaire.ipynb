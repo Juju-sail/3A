{
 "cells": [
  {
   "cell_type": "markdown",
   "metadata": {},
   "source": [
    "# 3_Liste - Tuple - Dictionnaire"
   ]
  },
  {
   "cell_type": "markdown",
   "metadata": {},
   "source": [
    "Une structure de données est une variable capable de contenir plusieurs valeurs a la fois.\n",
    "\n",
    "Une structure de données peut former une séquence si les valeurs qui la composent sont rangées dans un certains ordre.\n",
    "\n",
    "C'est le cas des listes et des tuples. A l'inverse un Dictionnaire ne forme pas une séquence."
   ]
  },
  {
   "cell_type": "markdown",
   "metadata": {},
   "source": [
    "## A. Les listes et les tuple\n",
    "### a. Créer une liste\n",
    "\n",
    "Une liste est une collection d'objets. Elle peut se composer de différents types de données (float, int, string, ...). C'est une structure hétérogène.\n",
    "\n",
    "Une liste est définie entre deux crochets *[ ]*. Les objets sont séparés avec une virgule."
   ]
  },
  {
   "cell_type": "markdown",
   "metadata": {},
   "source": [
    "On peut également créer une liste vide"
   ]
  },
  {
   "cell_type": "code",
   "execution_count": 1,
   "metadata": {},
   "outputs": [],
   "source": [
    "ma_liste = []"
   ]
  },
  {
   "cell_type": "code",
   "execution_count": 2,
   "metadata": {},
   "outputs": [
    {
     "data": {
      "text/plain": [
       "[]"
      ]
     },
     "execution_count": 2,
     "metadata": {},
     "output_type": "execute_result"
    }
   ],
   "source": [
    "ma_liste"
   ]
  },
  {
   "cell_type": "code",
   "execution_count": 3,
   "metadata": {},
   "outputs": [
    {
     "name": "stdout",
     "output_type": "stream",
     "text": [
      "[1, 2, 3, 4, 5]\n",
      "['A', 'B', 'C', 'D', 'E']\n"
     ]
    }
   ],
   "source": [
    "liste_nombre = [1, 2, 3, 4 , 5]\n",
    "liste_lettre = ['A', 'B', 'C', 'D', 'E']\n",
    "print(liste_nombre)\n",
    "print(liste_lettre)"
   ]
  },
  {
   "cell_type": "code",
   "execution_count": 4,
   "metadata": {},
   "outputs": [],
   "source": [
    "liste_heterogene = [1, 'A']"
   ]
  },
  {
   "cell_type": "code",
   "execution_count": 5,
   "metadata": {},
   "outputs": [
    {
     "data": {
      "text/plain": [
       "[1, 'A']"
      ]
     },
     "execution_count": 5,
     "metadata": {},
     "output_type": "execute_result"
    }
   ],
   "source": [
    "liste_heterogene"
   ]
  },
  {
   "cell_type": "markdown",
   "metadata": {},
   "source": [
    "On peut créer une liste multidimensionnelle.\n",
    "\n",
    "On appelle cela une nested list"
   ]
  },
  {
   "cell_type": "code",
   "execution_count": 6,
   "metadata": {},
   "outputs": [
    {
     "name": "stdout",
     "output_type": "stream",
     "text": [
      "[[1, 2, 3, 4, 5], ['A', 'B', 'C', 'D', 'E']]\n"
     ]
    }
   ],
   "source": [
    "nested_list = [liste_nombre, liste_lettre]\n",
    "print(nested_list)"
   ]
  },
  {
   "cell_type": "markdown",
   "metadata": {},
   "source": [
    "### b. Créer un tuple\n",
    "\n",
    "La différence entre les 2 est qu'une liste est mutable alors qu'un Tuple ne l'est pas (on ne peut pas le changer apres qu'il a été crée)"
   ]
  },
  {
   "cell_type": "code",
   "execution_count": 7,
   "metadata": {},
   "outputs": [],
   "source": [
    "mon_tuple = (1, \"element 1\")"
   ]
  },
  {
   "cell_type": "code",
   "execution_count": 8,
   "metadata": {},
   "outputs": [
    {
     "data": {
      "text/plain": [
       "1"
      ]
     },
     "execution_count": 8,
     "metadata": {},
     "output_type": "execute_result"
    }
   ],
   "source": [
    "mon_tuple[0]"
   ]
  },
  {
   "cell_type": "code",
   "execution_count": 9,
   "metadata": {},
   "outputs": [
    {
     "data": {
      "text/plain": [
       "'element 1'"
      ]
     },
     "execution_count": 9,
     "metadata": {},
     "output_type": "execute_result"
    }
   ],
   "source": [
    "mon_tuple[1]"
   ]
  },
  {
   "cell_type": "code",
   "execution_count": 10,
   "metadata": {},
   "outputs": [
    {
     "ename": "TypeError",
     "evalue": "'tuple' object does not support item assignment",
     "output_type": "error",
     "traceback": [
      "\u001b[0;31m---------------------------------------------------------------------------\u001b[0m",
      "\u001b[0;31mTypeError\u001b[0m                                 Traceback (most recent call last)",
      "\u001b[0;32m<ipython-input-10-0c736b7af1ac>\u001b[0m in \u001b[0;36m<module>\u001b[0;34m\u001b[0m\n\u001b[0;32m----> 1\u001b[0;31m \u001b[0mmon_tuple\u001b[0m\u001b[0;34m[\u001b[0m\u001b[0;36m1\u001b[0m\u001b[0;34m]\u001b[0m \u001b[0;34m=\u001b[0m \u001b[0;36m32\u001b[0m\u001b[0;34m\u001b[0m\u001b[0;34m\u001b[0m\u001b[0m\n\u001b[0m",
      "\u001b[0;31mTypeError\u001b[0m: 'tuple' object does not support item assignment"
     ]
    }
   ],
   "source": [
    "mon_tuple[1] = 32"
   ]
  },
  {
   "cell_type": "code",
   "execution_count": 13,
   "metadata": {},
   "outputs": [],
   "source": [
    "mon_tuple = [(1, \"element 1\"), (2, \"element 2\")]"
   ]
  },
  {
   "cell_type": "code",
   "execution_count": 14,
   "metadata": {},
   "outputs": [
    {
     "data": {
      "text/plain": [
       "(2, 'element 2')"
      ]
     },
     "execution_count": 14,
     "metadata": {},
     "output_type": "execute_result"
    }
   ],
   "source": [
    "mon_tuple[1]"
   ]
  },
  {
   "cell_type": "code",
   "execution_count": 15,
   "metadata": {},
   "outputs": [
    {
     "data": {
      "text/plain": [
       "'element 2'"
      ]
     },
     "execution_count": 15,
     "metadata": {},
     "output_type": "execute_result"
    }
   ],
   "source": [
    "mon_tuple[1][1]"
   ]
  },
  {
   "cell_type": "markdown",
   "metadata": {},
   "source": [
    "### c. Indexing et Slicing\n",
    "Dans une séquence, chaque élément est rangé selon un **index** (le premier index étant l'index 0)\n",
    "\n",
    "Pour acceder a un élément d'une liste ou d'un tuple, on utilise une technique appelée **Indexing**\n",
    "\n",
    "Pour acceder a plusieurs éléments d'une liste ou d'un tuple, on utilie une technique appelée **Slicing**"
   ]
  },
  {
   "cell_type": "code",
   "execution_count": 16,
   "metadata": {},
   "outputs": [
    {
     "name": "stdout",
     "output_type": "stream",
     "text": [
      "séquence complète: [1, 2, 3, 4, 5]\n",
      "index 0: 1\n",
      "index 1: 2\n",
      "dernier index (-1): 5\n"
     ]
    }
   ],
   "source": [
    "# indexing\n",
    "print('séquence complète:', liste_nombre)\n",
    "print('index 0:', liste_nombre[0])\n",
    "print('index 1:', liste_nombre[1])\n",
    "print('dernier index (-1):', liste_nombre[-1])"
   ]
  },
  {
   "cell_type": "code",
   "execution_count": 17,
   "metadata": {},
   "outputs": [
    {
     "name": "stdout",
     "output_type": "stream",
     "text": [
      "séquence complète: ['A', 'B', 'C', 'D', 'E']\n",
      "index 0-2: ['A', 'B', 'C']\n",
      "index 1-2: ['B', 'C']\n",
      "ordre inverse: ['E', 'D', 'C', 'B', 'A']\n"
     ]
    }
   ],
   "source": [
    "# slicing [début (inclus) : fin (exclus) : pas]\n",
    "\n",
    "print('séquence complète:', liste_lettre)\n",
    "print('index 0-2:', liste_lettre[0:3])\n",
    "print('index 1-2:', liste_lettre[1:3])\n",
    "print('ordre inverse:', liste_lettre[::-1])"
   ]
  },
  {
   "cell_type": "markdown",
   "metadata": {},
   "source": [
    "### d. Principales actions sur les listes"
   ]
  },
  {
   "cell_type": "code",
   "execution_count": 22,
   "metadata": {},
   "outputs": [
    {
     "name": "stdout",
     "output_type": "stream",
     "text": [
      "['Maths', 'Physique', 'Chimie', 'Info']\n",
      "['Maths', 'Physique', 'Chimie', 'Info', 'Langues']\n",
      "['Maths', 'Physique', 'Français', 'Chimie', 'Info', 'Langues']\n",
      "['Maths', 'Physique', 'Français', 'Chimie', 'Info', 'Langues', 'Sport', 'Technique']\n",
      "longueur de la liste: 8\n",
      "['Technique', 'Sport', 'Physique', 'Maths', 'Langues', 'Info', 'Français', 'Chimie']\n",
      "['Technique', 'Sport', 'Physique', 'Maths', 'Langues', 'Info', 'Français', 'Chimie', 'Français']\n",
      "9\n",
      "2\n"
     ]
    }
   ],
   "source": [
    "matieres = ['Maths', 'Physique', 'Chimie', 'Info'] # liste initiale\n",
    "print(matieres)\n",
    "\n",
    "matieres.append('Langues') # Rajoute un élément a la fin de la liste\n",
    "print(matieres)\n",
    "\n",
    "matieres.insert(2, 'Français') # Rajoute un élément a l'index indiqué\n",
    "print(matieres)\n",
    "\n",
    "matieres.extend(['Sport', 'Technique']) # Rajoute une liste a la fin de notre liste\n",
    "print(matieres)\n",
    "\n",
    "print('longueur de la liste:', len(matieres)) #affiche la longueur de la liste\n",
    "\n",
    "matieres.sort(reverse=True) # trie la liste par ordre alphabétique / numérique\n",
    "print(matieres)\n",
    "\n",
    "matieres.append('Français')\n",
    "print(matieres)\n",
    "print(len(matieres))\n",
    "\n",
    "print(matieres.count('Français')) # compte le nombre de fois qu'un élément apparait dans la liste"
   ]
  },
  {
   "cell_type": "markdown",
   "metadata": {},
   "source": [
    "On peut aussi concatener des listes"
   ]
  },
  {
   "cell_type": "code",
   "execution_count": 26,
   "metadata": {},
   "outputs": [
    {
     "data": {
      "text/plain": [
       "[1, 3, 7, 32, 66, 7, 8]"
      ]
     },
     "execution_count": 26,
     "metadata": {},
     "output_type": "execute_result"
    }
   ],
   "source": [
    "ma_liste_1 = [1 , 3, 7, 32]\n",
    "ma_liste_2 = [66, 7, 8]\n",
    "ma_liste1 = ma_liste_1 + ma_liste_2\n",
    "ma_liste1"
   ]
  },
  {
   "cell_type": "markdown",
   "metadata": {},
   "source": [
    "On peut concatener des chaînes de caractères"
   ]
  },
  {
   "cell_type": "code",
   "execution_count": 27,
   "metadata": {},
   "outputs": [],
   "source": [
    "liste_objets = [\"un bateau\", \"une voiture\", \"un bus\"]\n",
    "debut_phrase = \"Ceci est \""
   ]
  },
  {
   "cell_type": "code",
   "execution_count": 28,
   "metadata": {},
   "outputs": [
    {
     "name": "stdout",
     "output_type": "stream",
     "text": [
      "Ceci est un bateau\n"
     ]
    }
   ],
   "source": [
    "phrase = debut_phrase + liste_objets[0]\n",
    "print(phrase)"
   ]
  },
  {
   "cell_type": "markdown",
   "metadata": {},
   "source": [
    "### e. Les boucles\n",
    "\n",
    "Les listes et les tuples fonctionnent en harmonies avec les structures de controle **if/else** et **For**"
   ]
  },
  {
   "cell_type": "code",
   "execution_count": 29,
   "metadata": {},
   "outputs": [
    {
     "name": "stdout",
     "output_type": "stream",
     "text": [
      "oui\n"
     ]
    }
   ],
   "source": [
    "if 'Physique' in matieres:\n",
    "  print('oui')\n",
    "else:\n",
    "  print('non')"
   ]
  },
  {
   "cell_type": "code",
   "execution_count": 30,
   "metadata": {},
   "outputs": [
    {
     "name": "stdout",
     "output_type": "stream",
     "text": [
      "Technique\n",
      "Sport\n",
      "Physique\n",
      "Maths\n",
      "Langues\n",
      "Info\n",
      "Français\n",
      "Chimie\n",
      "Français\n"
     ]
    }
   ],
   "source": [
    "for element in matieres:\n",
    "  print(element)"
   ]
  },
  {
   "cell_type": "markdown",
   "metadata": {},
   "source": [
    "La fonction **enumerate** est tres utile pour sortir a la fois les éléments d'une liste et leurs **index**. C'est une fonction tres utilisée en datascience"
   ]
  },
  {
   "cell_type": "code",
   "execution_count": 31,
   "metadata": {},
   "outputs": [
    {
     "name": "stdout",
     "output_type": "stream",
     "text": [
      "0 Technique\n",
      "1 Sport\n",
      "2 Physique\n",
      "3 Maths\n",
      "4 Langues\n",
      "5 Info\n",
      "6 Français\n",
      "7 Chimie\n",
      "8 Français\n"
     ]
    }
   ],
   "source": [
    "for index, element in enumerate(matieres):\n",
    "  print(index, element)"
   ]
  },
  {
   "cell_type": "markdown",
   "metadata": {},
   "source": [
    "La fonction **zip** est aussi tres utile pour itérée a travers 2 listes en paralleles. Si une liste est plus courte que l'autre, la boucle for s'arrete a la liste la plus courte"
   ]
  },
  {
   "cell_type": "code",
   "execution_count": 32,
   "metadata": {},
   "outputs": [
    {
     "name": "stdout",
     "output_type": "stream",
     "text": [
      "Technique 1\n",
      "Sport 2\n",
      "Physique 3\n",
      "Maths 4\n",
      "Langues 5\n",
      "Info 6\n",
      "Français 7\n"
     ]
    }
   ],
   "source": [
    "coefficients = [1, 2, 3, 4, 5, 6, 7]\n",
    "for element_1, element_2 in zip(matieres, coefficients):\n",
    "  print(element_1, element_2)"
   ]
  },
  {
   "cell_type": "markdown",
   "metadata": {},
   "source": [
    "### f. Quelques autres points"
   ]
  },
  {
   "cell_type": "markdown",
   "metadata": {},
   "source": [
    "Concatenation et boucle **for**"
   ]
  },
  {
   "cell_type": "code",
   "execution_count": 33,
   "metadata": {},
   "outputs": [
    {
     "name": "stdout",
     "output_type": "stream",
     "text": [
      "Ceci est un bateau\n",
      "Ceci est une voiture\n",
      "Ceci est un bus\n"
     ]
    }
   ],
   "source": [
    "for objet in liste_objets:\n",
    "    print(debut_phrase + objet)"
   ]
  },
  {
   "cell_type": "markdown",
   "metadata": {},
   "source": [
    "Vérification du type"
   ]
  },
  {
   "cell_type": "code",
   "execution_count": 34,
   "metadata": {},
   "outputs": [
    {
     "data": {
      "text/plain": [
       "list"
      ]
     },
     "execution_count": 34,
     "metadata": {},
     "output_type": "execute_result"
    }
   ],
   "source": [
    "ma_liste_2 = [\"un string\", 3.5, 3 ]\n",
    "\n",
    "type(ma_liste_2)"
   ]
  },
  {
   "cell_type": "markdown",
   "metadata": {},
   "source": [
    "Recherche d'un élément"
   ]
  },
  {
   "cell_type": "code",
   "execution_count": 35,
   "metadata": {},
   "outputs": [
    {
     "data": {
      "text/plain": [
       "True"
      ]
     },
     "execution_count": 35,
     "metadata": {},
     "output_type": "execute_result"
    }
   ],
   "source": [
    "3 in ma_liste_2"
   ]
  },
  {
   "cell_type": "markdown",
   "metadata": {},
   "source": [
    "nous approfondirons cette méthode pour filter ou trouver l'indice d'un élement (chapitre sur les boucles)"
   ]
  },
  {
   "cell_type": "markdown",
   "metadata": {},
   "source": [
    "Effacer un element d'une liste"
   ]
  },
  {
   "cell_type": "code",
   "execution_count": 36,
   "metadata": {},
   "outputs": [],
   "source": [
    "liste_objets = [\"un bateau\", \"une voiture\", \"un bus\"]"
   ]
  },
  {
   "cell_type": "code",
   "execution_count": 37,
   "metadata": {},
   "outputs": [],
   "source": [
    "del liste_objets[2]"
   ]
  },
  {
   "cell_type": "code",
   "execution_count": 38,
   "metadata": {},
   "outputs": [
    {
     "data": {
      "text/plain": [
       "['un bateau', 'une voiture']"
      ]
     },
     "execution_count": 38,
     "metadata": {},
     "output_type": "execute_result"
    }
   ],
   "source": [
    "liste_objets"
   ]
  },
  {
   "cell_type": "markdown",
   "metadata": {},
   "source": [
    "Mesurer la longueur d'une liste"
   ]
  },
  {
   "cell_type": "code",
   "execution_count": null,
   "metadata": {},
   "outputs": [],
   "source": [
    "len(liste_objets)"
   ]
  },
  {
   "cell_type": "markdown",
   "metadata": {},
   "source": [
    "Cette fonction est très utile pour créer des boucles, grâce à la fonction range"
   ]
  },
  {
   "cell_type": "markdown",
   "metadata": {},
   "source": [
    "Multiplication"
   ]
  },
  {
   "cell_type": "code",
   "execution_count": 39,
   "metadata": {},
   "outputs": [
    {
     "data": {
      "text/plain": [
       "['*', '*', '*']"
      ]
     },
     "execution_count": 39,
     "metadata": {},
     "output_type": "execute_result"
    }
   ],
   "source": [
    "etoile = [\"*\"]\n",
    "etoile * 3"
   ]
  },
  {
   "cell_type": "markdown",
   "metadata": {},
   "source": [
    "## B. Les dictionnaires"
   ]
  },
  {
   "cell_type": "markdown",
   "metadata": {},
   "source": [
    "Les dictionnaires sont des structures de controle **non-ordonnées**, c'est-a-dire que les valeurs qu'ils contiennent ne sont pas rangée selon un index, mais suivant une **clef unique**.\n",
    "\n",
    "Une utilisation parfaite des dictionnaires est pour regrouper ensemble des \"variables\" dans un meme conténaire. (ces variables ne sont pas de vraies variables, mais des **keys**).\n",
    "\n",
    "*On peut par exemple crée un dictionnaire inventaire qui regroupe plusieurs produits (les clefs) et leur quantités (les valeurs)*"
   ]
  },
  {
   "cell_type": "code",
   "execution_count": 40,
   "metadata": {},
   "outputs": [],
   "source": [
    "eleve_promo = {}\n",
    "\n",
    "eleve_promo = {'Marc': 1995,\n",
    "                'Jules': 1996,\n",
    "                'Amandine': 1997}"
   ]
  },
  {
   "cell_type": "markdown",
   "metadata": {},
   "source": [
    "Un dictionnaire se compose:\n",
    "- d'une clé: int, float ou string\n",
    "- une valeur associée à la clé: int, float ou string\n",
    "\n",
    "Il est possible de connaître la liste des clés et de valeurs da la façon suivante"
   ]
  },
  {
   "cell_type": "code",
   "execution_count": 41,
   "metadata": {},
   "outputs": [
    {
     "data": {
      "text/plain": [
       "dict_keys(['Marc', 'Jules', 'Amandine'])"
      ]
     },
     "execution_count": 41,
     "metadata": {},
     "output_type": "execute_result"
    }
   ],
   "source": [
    "eleve_promo.keys()"
   ]
  },
  {
   "cell_type": "code",
   "execution_count": 42,
   "metadata": {},
   "outputs": [
    {
     "data": {
      "text/plain": [
       "dict_values([1995, 1996, 1997])"
      ]
     },
     "execution_count": 42,
     "metadata": {},
     "output_type": "execute_result"
    }
   ],
   "source": [
    "eleve_promo.values()"
   ]
  },
  {
   "cell_type": "code",
   "execution_count": 43,
   "metadata": {},
   "outputs": [
    {
     "data": {
      "text/plain": [
       "['Marc', 'Jules', 'Amandine']"
      ]
     },
     "execution_count": 43,
     "metadata": {},
     "output_type": "execute_result"
    }
   ],
   "source": [
    "list(eleve_promo)"
   ]
  },
  {
   "cell_type": "markdown",
   "metadata": {},
   "source": [
    "Voici comment ajouter une association key/value dans notre dictionnaire (attention si la clef existe déja elle est remplacée)"
   ]
  },
  {
   "cell_type": "code",
   "execution_count": 44,
   "metadata": {},
   "outputs": [
    {
     "name": "stdout",
     "output_type": "stream",
     "text": [
      "{'Marc': 1995, 'Jules': 1996, 'Amandine': 1997, 'Justine': 1999}\n"
     ]
    }
   ],
   "source": [
    "eleve_promo['Justine'] = 1999\n",
    "print(eleve_promo)"
   ]
  },
  {
   "cell_type": "markdown",
   "metadata": {},
   "source": [
    "Les dictionnaires sont très utilisés dans le monde de l'informatique. Il permet de facilement ranger et trouver des données très rapidement (nous n'avons généralement pas besoin de chercher).\n",
    "\n",
    "L'exemple classique est l'annuaire:\n",
    "\n",
    "- la clé correspond au nom de la personne\n",
    "- la valeur est le numéro et/ou adresse"
   ]
  },
  {
   "cell_type": "code",
   "execution_count": 45,
   "metadata": {},
   "outputs": [],
   "source": [
    "mon_annuaire = {\"Pierre\": \"02 99 45 32 20\", \"Bob\": \"06 78 19 54 33\"}"
   ]
  },
  {
   "cell_type": "code",
   "execution_count": 46,
   "metadata": {},
   "outputs": [
    {
     "data": {
      "text/plain": [
       "'02 99 45 32 20'"
      ]
     },
     "execution_count": 46,
     "metadata": {},
     "output_type": "execute_result"
    }
   ],
   "source": [
    "mon_annuaire[\"Pierre\"]"
   ]
  },
  {
   "cell_type": "markdown",
   "metadata": {},
   "source": [
    "# C. Comprehension list"
   ]
  },
  {
   "cell_type": "markdown",
   "metadata": {},
   "source": [
    "Les listes comprehension sont une facon habile de créer des listes sur une seule ligne de code, ce qui rend le code beaucoup plus rapide car python est un langage assez lent.\n",
    "\n",
    "Les deux codes ci-dessous effectuent chacun la même opération. On peut voir, grâce à la commande *%%time*, que le temps d'execution avec liste comprehenion est bien inférieur au temps d'execution avec la méthode *append()*."
   ]
  },
  {
   "cell_type": "code",
   "execution_count": 47,
   "metadata": {},
   "outputs": [
    {
     "name": "stdout",
     "output_type": "stream",
     "text": [
      "CPU times: user 36.3 ms, sys: 4.35 ms, total: 40.7 ms\n",
      "Wall time: 40.6 ms\n"
     ]
    }
   ],
   "source": [
    "%%time\n",
    "new_liste = []\n",
    "for i in range(100000):\n",
    "  new_liste.append(i**2)"
   ]
  },
  {
   "cell_type": "code",
   "execution_count": 48,
   "metadata": {},
   "outputs": [
    {
     "name": "stdout",
     "output_type": "stream",
     "text": [
      "CPU times: user 28.4 ms, sys: 2.8 ms, total: 31.2 ms\n",
      "Wall time: 31.3 ms\n"
     ]
    }
   ],
   "source": [
    "%%time\n",
    "new_liste1 = []\n",
    "new_liste1 = [i**2 for i in range(100000)]"
   ]
  },
  {
   "cell_type": "markdown",
   "metadata": {},
   "source": [
    "Avec une condition"
   ]
  },
  {
   "cell_type": "code",
   "execution_count": 49,
   "metadata": {},
   "outputs": [
    {
     "name": "stdout",
     "output_type": "stream",
     "text": [
      "[0, 4, 16, 36, 64, 100, 144, 196, 256, 324]\n"
     ]
    }
   ],
   "source": [
    "new_liste = [i**2 for i in range(100000) if (i % 2) == 0] # calcule i**2 seulement pour les nombres pairs.\n",
    "\n",
    "print(new_liste[:10]) #affiche les 10 premiers éléments de la liste"
   ]
  },
  {
   "cell_type": "code",
   "execution_count": null,
   "metadata": {},
   "outputs": [],
   "source": []
  }
 ],
 "metadata": {
  "kernelspec": {
   "display_name": "Python 3",
   "language": "python",
   "name": "python3"
  },
  "language_info": {
   "codemirror_mode": {
    "name": "ipython",
    "version": 3
   },
   "file_extension": ".py",
   "mimetype": "text/x-python",
   "name": "python",
   "nbconvert_exporter": "python",
   "pygments_lexer": "ipython3",
   "version": "3.8.5"
  }
 },
 "nbformat": 4,
 "nbformat_minor": 2
}
