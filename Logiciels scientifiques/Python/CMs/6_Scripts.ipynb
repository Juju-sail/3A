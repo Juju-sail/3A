{
 "cells": [
  {
   "cell_type": "markdown",
   "metadata": {},
   "source": [
    "# Créer un programme complet"
   ]
  },
  {
   "cell_type": "markdown",
   "metadata": {},
   "source": [
    "Dans votre éditeur préféré ouvrir un nouveau fichier. Exemple d'éditeur:\n",
    "\n",
    "- vscode\n",
    "- notepad++\n",
    "- atom\n",
    "- vim\n",
    "- emacs\n",
    "- pycharm (spécifique à python)\n",
    "- sublime text\n",
    "- eclipse\n",
    "- ..."
   ]
  },
  {
   "cell_type": "markdown",
   "metadata": {},
   "source": [
    "sauvegardez votre fichier : \n",
    "\n",
    "*nom du fichier*.py"
   ]
  },
  {
   "cell_type": "markdown",
   "metadata": {},
   "source": [
    "\n",
    "## 1 - Importer les modules"
   ]
  },
  {
   "cell_type": "code",
   "execution_count": 3,
   "metadata": {},
   "outputs": [],
   "source": [
    "import matplotlib.pyplot as plt\n",
    "import numpy as np"
   ]
  },
  {
   "cell_type": "markdown",
   "metadata": {},
   "source": [
    "## 2- variables globales"
   ]
  },
  {
   "cell_type": "code",
   "execution_count": 1,
   "metadata": {},
   "outputs": [],
   "source": [
    "nombre_de_variables = 42"
   ]
  },
  {
   "cell_type": "markdown",
   "metadata": {},
   "source": [
    "## 3 - Les fonctions"
   ]
  },
  {
   "cell_type": "code",
   "execution_count": 1,
   "metadata": {},
   "outputs": [],
   "source": [
    "def power_2(x):\n",
    "    return x*x"
   ]
  },
  {
   "cell_type": "markdown",
   "metadata": {},
   "source": [
    "##  4 -  La partie principale"
   ]
  },
  {
   "cell_type": "code",
   "execution_count": 2,
   "metadata": {},
   "outputs": [
    {
     "name": "stdout",
     "output_type": "stream",
     "text": [
      "ceci est la partie principale\n"
     ]
    }
   ],
   "source": [
    "if __name__ == \"__main__\":\n",
    "    \n",
    "    print(\"ceci est la partie principale\")"
   ]
  },
  {
   "cell_type": "markdown",
   "metadata": {},
   "source": [
    "cette partie est importante:\n",
    "\n",
    "- si le programme est appélé directement alors on commence par executer ces lignes\n",
    "- si le programme est importé en tant que modules (pour avoir accès aux différentes fonctions) alors ces lignes ne sont pas du tout utilisées"
   ]
  },
  {
   "cell_type": "markdown",
   "metadata": {},
   "source": [
    "if __name__ == \"__main__\": n'est pas obligatoire dans un programme, mais il permet d'utiliser votre code comme un module s'il est appelé depuis un autre programme"
   ]
  },
  {
   "cell_type": "markdown",
   "metadata": {},
   "source": [
    "## 5 - Executer le programme"
   ]
  },
  {
   "cell_type": "markdown",
   "metadata": {},
   "source": [
    "Dans un terminal executer votre code:"
   ]
  },
  {
   "cell_type": "markdown",
   "metadata": {},
   "source": [
    "```\n",
    "python *nom du fichier*.py\n",
    "\n",
    "```"
   ]
  },
  {
   "cell_type": "markdown",
   "metadata": {},
   "source": [
    "en fonction de votre code, du texte peut apparaitre, fenetre interactive ... "
   ]
  },
  {
   "cell_type": "markdown",
   "metadata": {},
   "source": [
    "## 6 - Debuguer son programme"
   ]
  },
  {
   "cell_type": "markdown",
   "metadata": {},
   "source": [
    "### Lire votre erreur"
   ]
  },
  {
   "cell_type": "markdown",
   "metadata": {},
   "source": [
    "- type de l'erreur\n",
    "- numero de ligne de l'erreur"
   ]
  },
  {
   "cell_type": "markdown",
   "metadata": {},
   "source": [
    "### ajouter des print"
   ]
  },
  {
   "cell_type": "markdown",
   "metadata": {},
   "source": [
    "comprendre ce qu'il se passe en analysant le contenu d'une variable."
   ]
  },
  {
   "cell_type": "code",
   "execution_count": null,
   "metadata": {},
   "outputs": [],
   "source": [
    "print(ma_variable)"
   ]
  },
  {
   "cell_type": "markdown",
   "metadata": {},
   "source": [
    "### debugueur"
   ]
  },
  {
   "cell_type": "code",
   "execution_count": 1,
   "metadata": {},
   "outputs": [
    {
     "data": {
      "text/plain": [
       "'\\npython -m pdb scriptName.py\\n'"
      ]
     },
     "execution_count": 1,
     "metadata": {},
     "output_type": "execute_result"
    }
   ],
   "source": [
    "'''\n",
    "python -m pdb scriptName.py\n",
    "'''"
   ]
  },
  {
   "cell_type": "markdown",
   "metadata": {},
   "source": [
    "### limiter les erreurs"
   ]
  },
  {
   "cell_type": "markdown",
   "metadata": {},
   "source": [
    "#### assert"
   ]
  },
  {
   "cell_type": "code",
   "execution_count": 5,
   "metadata": {},
   "outputs": [],
   "source": [
    "nombre_de_livres = -250"
   ]
  },
  {
   "cell_type": "code",
   "execution_count": 7,
   "metadata": {},
   "outputs": [
    {
     "ename": "AssertionError",
     "evalue": "le nombre de livre est négatif",
     "output_type": "error",
     "traceback": [
      "\u001b[0;31m---------------------------------------------------------------------------\u001b[0m",
      "\u001b[0;31mAssertionError\u001b[0m                            Traceback (most recent call last)",
      "\u001b[0;32m<ipython-input-7-7648e221a79d>\u001b[0m in \u001b[0;36m<module>\u001b[0;34m\u001b[0m\n\u001b[0;32m----> 1\u001b[0;31m \u001b[0;32massert\u001b[0m \u001b[0mnombre_de_livres\u001b[0m \u001b[0;34m>=\u001b[0m \u001b[0;36m0\u001b[0m\u001b[0;34m,\u001b[0m \u001b[0;34m\"le nombre de livre est négatif\"\u001b[0m\u001b[0;34m\u001b[0m\u001b[0;34m\u001b[0m\u001b[0m\n\u001b[0m",
      "\u001b[0;31mAssertionError\u001b[0m: le nombre de livre est négatif"
     ]
    }
   ],
   "source": [
    "assert nombre_de_livres >= 0, \"le nombre de livre est négatif\""
   ]
  },
  {
   "cell_type": "markdown",
   "metadata": {},
   "source": [
    "#### raise"
   ]
  },
  {
   "cell_type": "code",
   "execution_count": 3,
   "metadata": {},
   "outputs": [
    {
     "ename": "Exception",
     "evalue": "La condition n'est pas remplie",
     "output_type": "error",
     "traceback": [
      "\u001b[0;31m---------------------------------------------------------------------------\u001b[0m",
      "\u001b[0;31mException\u001b[0m                                 Traceback (most recent call last)",
      "\u001b[0;32m<ipython-input-3-ecc100be83f3>\u001b[0m in \u001b[0;36m<module>\u001b[0;34m\u001b[0m\n\u001b[1;32m      3\u001b[0m \u001b[0;32mif\u001b[0m \u001b[0mcondition\u001b[0m \u001b[0;34m==\u001b[0m \u001b[0;36m1\u001b[0m\u001b[0;34m:\u001b[0m\u001b[0;34m\u001b[0m\u001b[0;34m\u001b[0m\u001b[0m\n\u001b[1;32m      4\u001b[0m \u001b[0;34m\u001b[0m\u001b[0m\n\u001b[0;32m----> 5\u001b[0;31m     \u001b[0;32mraise\u001b[0m \u001b[0mException\u001b[0m\u001b[0;34m(\u001b[0m\u001b[0;34m\"La condition n'est pas remplie\"\u001b[0m\u001b[0;34m)\u001b[0m\u001b[0;34m\u001b[0m\u001b[0;34m\u001b[0m\u001b[0m\n\u001b[0m",
      "\u001b[0;31mException\u001b[0m: La condition n'est pas remplie"
     ]
    }
   ],
   "source": [
    "condition = 1 \n",
    "\n",
    "if condition == 1:\n",
    "    \n",
    "    raise Exception(\"La condition n'est pas remplie\")"
   ]
  },
  {
   "cell_type": "markdown",
   "metadata": {},
   "source": [
    "#### try"
   ]
  },
  {
   "cell_type": "code",
   "execution_count": 8,
   "metadata": {},
   "outputs": [
    {
     "name": "stdout",
     "output_type": "stream",
     "text": [
      "An exception happened: La condition n'est pas remplie\n"
     ]
    }
   ],
   "source": [
    "try:\n",
    "    raise Exception(\"La condition n'est pas remplie\")\n",
    "except Exception as err:\n",
    "    print('An exception happened: ' + str(err))"
   ]
  },
  {
   "cell_type": "markdown",
   "metadata": {},
   "source": [
    "Cela permet egalement au programme de continuer en cas d'erreur  (bien sur tout dépend de l'erreur généré). "
   ]
  },
  {
   "cell_type": "code",
   "execution_count": 13,
   "metadata": {},
   "outputs": [
    {
     "name": "stdout",
     "output_type": "stream",
     "text": [
      "Attention math domain error\n"
     ]
    }
   ],
   "source": [
    "import math\n",
    "\n",
    "mon_nombre = -32\n",
    "\n",
    "try:\n",
    "    math.sqrt(mon_nombre)\n",
    "    \n",
    "except Exception as err:\n",
    "    \n",
    "    print(\"Attention\", err)\n",
    "    math.sqrt(-mon_nombre)\n"
   ]
  },
  {
   "cell_type": "markdown",
   "metadata": {},
   "source": [
    "## 7 - Exemple de programme"
   ]
  },
  {
   "cell_type": "markdown",
   "metadata": {},
   "source": [
    "Maintenant nous allons écrire nos premiers programmes ! Enfin !\n",
    "\n",
    "Le fichier *tirage.py* contient un exemple de programme python. Celui consiste a tirer *n* fois un nombre entre les bornes specifiees. Le programme calcule ensuite la probabilite pour chaque nombre."
   ]
  },
  {
   "cell_type": "markdown",
   "metadata": {},
   "source": [
    "## 8 - Les modules"
   ]
  },
  {
   "cell_type": "markdown",
   "metadata": {},
   "source": [
    "Modifions notre programme maintenant comme un module ! Il se compose maintenant:\n",
    "\n",
    "- d'un programme principal nommé : *mon_tirage.py*\n",
    "- d'un module comportant nos differantes fonctions : *tirage.py*\n",
    "\n",
    "En python, tout programme ecrit pour être appelé comme le module d'un autre. Important les variables globales, les fonctions et les objets !\n",
    "\n"
   ]
  },
  {
   "cell_type": "markdown",
   "metadata": {},
   "source": [
    "## 9 - Envoyer des parametres externes a votre programme"
   ]
  },
  {
   "cell_type": "markdown",
   "metadata": {},
   "source": [
    "Lorsque vous executer votre programme depuis un terminal il peut être utile d'envoyer certains paramètres sans devoir modifier notre programme."
   ]
  },
  {
   "cell_type": "markdown",
   "metadata": {},
   "source": [
    "Pour cela il faut utiliser le module sys"
   ]
  },
  {
   "cell_type": "code",
   "execution_count": 2,
   "metadata": {},
   "outputs": [],
   "source": [
    "import sys"
   ]
  },
  {
   "cell_type": "markdown",
   "metadata": {},
   "source": [
    "Toutes les informations sont contenu dans la liste sys.argv\n",
    "\n",
    "- sys.argv[0] est le nom de votre programme\n",
    "- sys.argv[1] est le premier argument externe envoye lors de l'appel du programme\n",
    "- sys.argv[2] est le deuxieme ---------------------------------------------------\n",
    "- len(sys.argv) - 1 est le nombre d'arguement envoye"
   ]
  },
  {
   "cell_type": "markdown",
   "metadata": {},
   "source": [
    "Ensuite dans un terminal vous pouvez executer votre programme de la manière suivante:\n",
    "\n",
    "python *argument1* *argument2* ...."
   ]
  },
  {
   "cell_type": "markdown",
   "metadata": {},
   "source": [
    "Et dans votre programme vous pouvez accéder à ces nouvelles variables !"
   ]
  },
  {
   "cell_type": "markdown",
   "metadata": {},
   "source": [
    "print(sys.argv[1])"
   ]
  },
  {
   "cell_type": "markdown",
   "metadata": {},
   "source": [
    "# Les bonnes pratiques"
   ]
  },
  {
   "cell_type": "markdown",
   "metadata": {},
   "source": [
    "voici quelques règles que TOUT bon programmeur python essaye de respecter :\n",
    "\n",
    "- faire attention aux noms de variables\n",
    "- écrire des commentaires pour décrirer les zones de codes ou lignes importantes\n",
    "- ne pas hésiter à mettre des lignes blanches pour aérer votre code\n",
    "- lire le code des autres\n",
    "- ajouter des tests pour solidifier votre code\n",
    "- documenter vos fonctions"
   ]
  },
  {
   "cell_type": "markdown",
   "metadata": {},
   "source": [
    "# Les unités de tests"
   ]
  },
  {
   "cell_type": "markdown",
   "metadata": {},
   "source": [
    "Nous ne traiterons pas les unités de tests dans ce cours. MAIS, sachez que pour renforcer votre programme et limiter les nombres d'erreurs à l'utilisation ET au développement il est possible d'utiliser des unités tests. Elles consistent en une collection de fonctions qui vont tester le comportement souhaiter de vos fonctions à l'aide de tests simples que vous devez définir. Je vous conseille vivement de regarder comment faire, notamment pour développer des codes pour des projets.\n",
    "\n",
    "\n",
    "https://pythontesting.net/framework/unittest/unittest-introduction/"
   ]
  },
  {
   "cell_type": "code",
   "execution_count": 3,
   "metadata": {},
   "outputs": [
    {
     "name": "stdout",
     "output_type": "stream",
     "text": [
      "100\n",
      "Combien de simulation ? 1000000\n"
     ]
    },
    {
     "data": {
      "image/png": "[encoded data removed]",
      "text/plain": [
       "<Figure size 432x288 with 1 Axes>"
      ]
     },
     "metadata": {},
     "output_type": "display_data"
    }
   ],
   "source": [
    "%run tirage.py"
   ]
  },
  {
   "cell_type": "code",
   "execution_count": 4,
   "metadata": {},
   "outputs": [
    {
     "name": "stdout",
     "output_type": "stream",
     "text": [
      "Combien de simulation ? 100\n"
     ]
    },
    {
     "data": {
      "image/png": "[encoded data removed]",
      "text/plain": [
       "<Figure size 432x288 with 1 Axes>"
      ]
     },
     "metadata": {},
     "output_type": "display_data"
    }
   ],
   "source": [
    "%run mon_tirage.py"
   ]
  }
 ],
 "metadata": {
  "kernelspec": {
   "display_name": "Python 3",
   "language": "python",
   "name": "python3"
  },
  "language_info": {
   "codemirror_mode": {
    "name": "ipython",
    "version": 3
   },
   "file_extension": ".py",
   "mimetype": "text/x-python",
   "name": "python",
   "nbconvert_exporter": "python",
   "pygments_lexer": "ipython3",
   "version": "3.8.5"
  }
 },
 "nbformat": 4,
 "nbformat_minor": 2
}
