{
 "cells": [
  {
   "cell_type": "markdown",
   "metadata": {},
   "source": [
    "# 4_Les fichiers"
   ]
  },
  {
   "cell_type": "markdown",
   "metadata": {},
   "source": [
    "Ouvrir un fichier en *lecture*"
   ]
  },
  {
   "cell_type": "code",
   "execution_count": 1,
   "metadata": {},
   "outputs": [],
   "source": [
    "my_file = open(\"recensement.txt\", \"r\")"
   ]
  },
  {
   "cell_type": "markdown",
   "metadata": {},
   "source": [
    "lire le fichier"
   ]
  },
  {
   "cell_type": "code",
   "execution_count": 2,
   "metadata": {},
   "outputs": [],
   "source": [
    "# my_file.readlines()"
   ]
  },
  {
   "cell_type": "markdown",
   "metadata": {},
   "source": [
    "boucle sur les lignes"
   ]
  },
  {
   "cell_type": "code",
   "execution_count": 3,
   "metadata": {},
   "outputs": [
    {
     "output_type": "stream",
     "name": "stdout",
     "text": [
      "1 Paris 2229621\n\n2 Marseille 855393\n\n3 Lyon 500715\n\n4 Toulouse 458298\n\n5 Nice 342295\n\n6 Nantes 292718\n\n7 Strasbourg 275718\n\n8 Montpellier 272084\n\n9 Bordeaux 243626\n\n10 Lille 231491\n\n11 Rennes 211373\n\n12 Reims 182592\n\n13 Le Havre 172074\n\n14 Saint-Ã‰tienne 172023\n\n15 Toulon 163760\n\n16 Grenoble 160215\n\n17 Dijon 153003\n\n18 NÃ®mes 150564\n\n19 Angers 150125\n\n20 Villeurbanne 147192\n\n21 Le Mans 144244\n\n22 Saint-Denis 142442\n\n23 Aix-en-Provence 141545\n\n24 Clermont-Ferrand 141463\n\n25 Brest 139386\n\n26 Limoges 135098\n\n27 Tours 134803\n\n28 Amiens 132699\n\n29 Perpignan 120959\n\n30 Metz 118634\n\n31 BesanÃ§on 116952\n\n32 Boulogne-Billancourt 116794\n\n33 OrlÃ©ans 114375\n\n34 Mulhouse 112063\n\n35 Rouen 110755\n\n36 Saint-Denis 109343\n\n37 Caen 107229\n\n38 Argenteuil 106817\n\n39 Saint-Paul104332\n\n40 Montreuil 104139\n\n41 Nancy 104072\n\n42 Roubaix 95866\n\n43 Tourcoing 93974\n\n44 Nanterre 92227\n\n45 Avignon 90305\n\n46 Vitry-sur-Seine 90075\n\n47 CrÃ©teil 89989\n\n48 Dunkerque 89882\n\n49 Poitiers 87427\n\n50 AsniÃ¨res-sur-Seine 86020\n\n51 Courbevoie 85523\n\n52 Versailles 85272\n\n53 Colombes 84577\n\n54 Fort-de-France 84174\n\n55 Aulnay-sous-Bois 82634\n\n56 Saint-Pierre 81415\n\n57 Rueil-Malmaison 79762\n\n58 Pau 77575\n\n59 Aubervilliers 77452\n\n60 Le Tampon 76090\n\n61 Champigny-sur-Marne 75961\n\n62 Antibes 75456\n\n63 BÃ©ziers 74811\n\n64 La Rochelle 74344\n\n65 Saint-Maur-des-FossÃ©s 74133\n\n66 Cannes 73325\n\n67 Calais 72520\n\n68 Saint-Nazaire 68513\n\n69 MÃ©rignac 68386\n\n70 Drancy 68241\n\n71 Colmar 67956\n\n72 Ajaccio 67507\n\n73 Bourges 67189\n\n74 Issy-les-Moulineaux 65662\n\n75 Levallois-Perret 65264\n\n"
     ]
    }
   ],
   "source": [
    "for line in my_file:\n",
    "    # print(line)\n",
    "    print(line.replace('\\t', ''))"
   ]
  },
  {
   "cell_type": "markdown",
   "metadata": {},
   "source": [
    "Il faut ensuite penser à fermer le fichier pour éviter des erreurs input/output."
   ]
  },
  {
   "cell_type": "code",
   "execution_count": 4,
   "metadata": {},
   "outputs": [],
   "source": [
    "my_file.close()"
   ]
  },
  {
   "cell_type": "markdown",
   "metadata": {},
   "source": [
    "il est notamment recommandé d'utiliser la méthode suivante pour limiter les erreurs:\n"
   ]
  },
  {
   "cell_type": "code",
   "execution_count": 5,
   "metadata": {},
   "outputs": [],
   "source": [
    "with open(\"recensement.txt\", \"r\") as f:\n",
    "    lines = f.readlines()"
   ]
  },
  {
   "cell_type": "markdown",
   "metadata": {},
   "source": [
    "Ecrire dans un fichier"
   ]
  },
  {
   "cell_type": "code",
   "execution_count": 6,
   "metadata": {},
   "outputs": [],
   "source": [
    "my_new_file = \"output.txt\""
   ]
  },
  {
   "cell_type": "code",
   "execution_count": 7,
   "metadata": {},
   "outputs": [],
   "source": [
    "with open(\"output.txt\", \"w\") as f:\n",
    "    \n",
    "    for i in range(0,100):\n",
    "        \n",
    "        f.write(str(i) + \"\\n\") # ne pas oublier le retour à la ligne pour ne pas se retrouver &"
   ]
  },
  {
   "cell_type": "markdown",
   "metadata": {},
   "source": [
    "on peut vérifier le fichier que l'on vient de créer"
   ]
  },
  {
   "cell_type": "code",
   "execution_count": 8,
   "metadata": {},
   "outputs": [
    {
     "output_type": "stream",
     "name": "stdout",
     "text": [
      "0\n\n1\n\n2\n\n3\n\n4\n\n5\n\n6\n\n7\n\n8\n\n9\n\n10\n\n11\n\n12\n\n13\n\n14\n\n15\n\n16\n\n17\n\n18\n\n19\n\n20\n\n21\n\n22\n\n23\n\n24\n\n25\n\n26\n\n27\n\n28\n\n29\n\n30\n\n31\n\n32\n\n33\n\n34\n\n35\n\n36\n\n37\n\n38\n\n39\n\n40\n\n41\n\n42\n\n43\n\n44\n\n45\n\n46\n\n47\n\n48\n\n49\n\n50\n\n51\n\n52\n\n53\n\n54\n\n55\n\n56\n\n57\n\n58\n\n59\n\n60\n\n61\n\n62\n\n63\n\n64\n\n65\n\n66\n\n67\n\n68\n\n69\n\n70\n\n71\n\n72\n\n73\n\n74\n\n75\n\n76\n\n77\n\n78\n\n79\n\n80\n\n81\n\n82\n\n83\n\n84\n\n85\n\n86\n\n87\n\n88\n\n89\n\n90\n\n91\n\n92\n\n93\n\n94\n\n95\n\n96\n\n97\n\n98\n\n99\n\n"
     ]
    }
   ],
   "source": [
    "with open(\"output.txt\", \"r\") as f:\n",
    "    \n",
    "    for line in f : \n",
    "        \n",
    "        print(line)"
   ]
  },
  {
   "cell_type": "markdown",
   "metadata": {},
   "source": [
    "On peut faire encore plus compliqué! Voici une liste de livres"
   ]
  },
  {
   "cell_type": "code",
   "execution_count": 9,
   "metadata": {},
   "outputs": [],
   "source": [
    "# voici la liste des livres suivante:\n",
    "\n",
    "liste_brute  = \"\"\"        The Beetle Horde / Victor Rousseau\n",
    "        The Cave Of Horror / Captain S. P. Meek\n",
    "        Phantoms Of Reality / Ray Cummings\n",
    "        The Stolen Mind / M. L. Staley\n",
    "        Compensation / C. V. Tench\n",
    "        Tanks / Murray Leinster\n",
    "        Invisible Death / Anthony Pelcher\n",
    "        Old Crompton's Secret / Harl Vincent\n",
    "        Spawn of the Stars / Charles Willard Diffin\n",
    "        The Corpse on the Grating / Hugh B. Cave\n",
    "        Creatures of the Light / Sophie Wenzel Ellis\n",
    "        Into Space / S. P. Meek\n",
    "        The Beetle Horde (Part 2 of 2) / Victor Rousseau\n",
    "        Mad Music / Anthony Pelcher\n",
    "        The Thief of Time / S. P. Meek\n",
    "        Cold Light / S. P. Meek\n",
    "        Brigands of the Moon (Part 1 of 4) / Ray Cummings\n",
    "        The Soul Master / Will Smith and R. J. Robbins\n",
    "        From the Ocean's Depths / Sewell Peaslee Wright\n",
    "        Vandals of the Stars / A. T. Locke\n",
    "        The Man Who Was Dead / Thomas H. Knight\n",
    "        Monsters of Moyen / Arthur J. Burks\n",
    "        Vampires of Venus / Anthony Pelcher\n",
    "        Brigands of the Moon (Part 2 of 4) / Ray Cummings\n",
    "        The Soul Snatcher / Tom Curry\n",
    "        The Ray of Madness / S. P. Meek\n",
    "        Into the Ocean's Depths / Sewell Peaslee Wright\n",
    "        Murder Madness (Part 1 of 4) / Murray Leinster\n",
    "        Brigands of the Moon (Part 3 of 4) / Ray Cummings\n",
    "        The Jovian Jest / Lilith Lorraine\n",
    "        The Atom-Smasher / Victor Rousseau\n",
    "        Out of the Dreadful Depths / Charles Willard Diffin\n",
    "        Murder Madness (Part 2 of 4) / Murray Leinster\n",
    "        The Cavern World / James P. Olsen\n",
    "        Brigands of the Moon (Part 4 of 4) / Ray Cummings\n",
    "        Giants of the Ray / Tom Curry\n",
    "        The Moon Master / Charles Willard Diffin\n",
    "        Beyond the Heaviside Layer / S. P. Meek\n",
    "        Earth, the Marauder (Part 1 of 3) / Arthur J. Burks\n",
    "        From an Amber Block / Tom Curry\n",
    "        The Terror of Air-Level Six / Harl Vincent\n",
    "        The Forgotten Planet / Sewell Peaslee Wright\n",
    "        The Power and the Glory / Charles Willard Diffin\n",
    "        Murder Madness (Part 3 of 4) / Murray Leinster \"\"\" \n",
    "\n",
    "liste_1 = liste_brute.split(\"\\n\")\n",
    "\n",
    "liste_livres = {}\n",
    "\n",
    "for livre in liste_1:\n",
    "    \n",
    "    livre_sans_espace = livre.split(\" \")\n",
    "    \n",
    "    auteur = \"\"\n",
    "    titre = \"\"\n",
    "    \n",
    "    fin_titre = False # permet de savoir si on a fini de lire le titre\n",
    "    \n",
    "    for mot in livre_sans_espace:\n",
    "        \n",
    "        if mot == \"/\":\n",
    "            \n",
    "            fin_titre = True\n",
    "            \n",
    "        elif mot != \"\":\n",
    "            \n",
    "            if fin_titre:\n",
    "                \n",
    "                auteur = auteur + \" \" + mot\n",
    "                \n",
    "            else:\n",
    "                \n",
    "                titre = titre + \" \" + mot   \n",
    "                \n",
    "    liste_livres[auteur] = titre          \n",
    "    "
   ]
  },
  {
   "cell_type": "code",
   "execution_count": 10,
   "metadata": {},
   "outputs": [],
   "source": [
    "with open(\"liste_livres.txt\", \"w\") as f:\n",
    "    \n",
    "    for livre in liste_livres.items():\n",
    "        \n",
    "        ligne = livre[0] + \" -- \" + livre[1] + \"\\n\" \n",
    "        \n",
    "        f.write(ligne)"
   ]
  },
  {
   "cell_type": "code",
   "execution_count": 11,
   "metadata": {},
   "outputs": [
    {
     "output_type": "stream",
     "name": "stdout",
     "text": [
      " Victor Rousseau --  The Atom-Smasher\n\n Captain S. P. Meek --  The Cave Of Horror\n\n Ray Cummings --  Brigands of the Moon (Part 4 of 4)\n\n M. L. Staley --  The Stolen Mind\n\n C. V. Tench --  Compensation\n\n Murray Leinster --  Murder Madness (Part 3 of 4)\n\n Anthony Pelcher --  Vampires of Venus\n\n Harl Vincent --  The Terror of Air-Level Six\n\n Charles Willard Diffin --  The Power and the Glory\n\n Hugh B. Cave --  The Corpse on the Grating\n\n Sophie Wenzel Ellis --  Creatures of the Light\n\n S. P. Meek --  Beyond the Heaviside Layer\n\n Will Smith and R. J. Robbins --  The Soul Master\n\n Sewell Peaslee Wright --  The Forgotten Planet\n\n A. T. Locke --  Vandals of the Stars\n\n Thomas H. Knight --  The Man Who Was Dead\n\n Arthur J. Burks --  Earth, the Marauder (Part 1 of 3)\n\n Tom Curry --  From an Amber Block\n\n Lilith Lorraine --  The Jovian Jest\n\n James P. Olsen --  The Cavern World\n\n"
     ]
    }
   ],
   "source": [
    "with open(\"liste_livres.txt\", \"r\") as f:\n",
    "    \n",
    "    for line in f:\n",
    "        \n",
    "        print(line)"
   ]
  },
  {
   "cell_type": "markdown",
   "metadata": {},
   "source": [
    "Nous aurions pu également écrire un en tête ou header en anglais"
   ]
  },
  {
   "cell_type": "code",
   "execution_count": 12,
   "metadata": {},
   "outputs": [],
   "source": [
    "with open(\"liste_livres.txt\", \"w\") as f:\n",
    "    \n",
    "    f.write(\"auteur titre\\n\")\n",
    "    \n",
    "    for livre in liste_livres.items():\n",
    "        \n",
    "        ligne = livre[0] + \" \" + livre[1] + \"\\n\" \n",
    "        \n",
    "        f.write(ligne)"
   ]
  },
  {
   "cell_type": "code",
   "execution_count": 13,
   "metadata": {},
   "outputs": [
    {
     "output_type": "stream",
     "name": "stdout",
     "text": [
      "{' A. T. Locke': ' Vandals of the Stars',\n ' Anthony Pelcher': ' Vampires of Venus',\n ' Arthur J. Burks': ' Earth, the Marauder (Part 1 of 3)',\n ' C. V. Tench': ' Compensation',\n ' Captain S. P. Meek': ' The Cave Of Horror',\n ' Charles Willard Diffin': ' The Power and the Glory',\n ' Harl Vincent': ' The Terror of Air-Level Six',\n ' Hugh B. Cave': ' The Corpse on the Grating',\n ' James P. Olsen': ' The Cavern World',\n ' Lilith Lorraine': ' The Jovian Jest',\n ' M. L. Staley': ' The Stolen Mind',\n ' Murray Leinster': ' Murder Madness (Part 3 of 4)',\n ' Ray Cummings': ' Brigands of the Moon (Part 4 of 4)',\n ' S. P. Meek': ' Beyond the Heaviside Layer',\n ' Sewell Peaslee Wright': ' The Forgotten Planet',\n ' Sophie Wenzel Ellis': ' Creatures of the Light',\n ' Thomas H. Knight': ' The Man Who Was Dead',\n ' Tom Curry': ' From an Amber Block',\n ' Victor Rousseau': ' The Atom-Smasher',\n ' Will Smith and R. J. Robbins': ' The Soul Master'}\n"
     ]
    }
   ],
   "source": [
    "import pprint\n",
    "\n",
    "pprint.pprint(liste_livres)"
   ]
  },
  {
   "cell_type": "markdown",
   "metadata": {},
   "source": [
    "## Template"
   ]
  },
  {
   "cell_type": "markdown",
   "metadata": {},
   "source": [
    "vous avez besoin de creer un/des fichiers contenant plusieurs centaines de fois la même ligne mais avec une variable qui change ?\n",
    "\n",
    "par exemple :\n",
    "\n",
    "- vous avez une simulation et vous devez placer des centaines de thermocouples dans votre domaine de manière régulière ?\n",
    "- créer des formulaires avec un nom qui change ? souvent utiliser pour les sites web\n",
    "- et plein d'autres !\n",
    "\n",
    "alors je vous conseille d'utiliser le module Jinja2 !"
   ]
  },
  {
   "cell_type": "code",
   "execution_count": 14,
   "metadata": {},
   "outputs": [
    {
     "output_type": "error",
     "ename": "ModuleNotFoundError",
     "evalue": "No module named 'jinja2'",
     "traceback": [
      "\u001b[1;31m---------------------------------------------------------------------------\u001b[0m",
      "\u001b[1;31mModuleNotFoundError\u001b[0m                       Traceback (most recent call last)",
      "\u001b[1;32m<ipython-input-14-4cc83f04d0c1>\u001b[0m in \u001b[0;36m<module>\u001b[1;34m\u001b[0m\n\u001b[1;32m----> 1\u001b[1;33m \u001b[1;32mimport\u001b[0m \u001b[0mjinja2\u001b[0m \u001b[1;31m# importer le module jinja2 (nous reverons par le suite cette histoire de module)\u001b[0m\u001b[1;33m\u001b[0m\u001b[1;33m\u001b[0m\u001b[0m\n\u001b[0m",
      "\u001b[1;31mModuleNotFoundError\u001b[0m: No module named 'jinja2'"
     ]
    }
   ],
   "source": [
    "import jinja2 # importer le module jinja2 (nous reverons par le suite cette histoire de module)"
   ]
  },
  {
   "cell_type": "markdown",
   "metadata": {},
   "source": [
    "Imaginons que nous voulions écrire dans une fichier la position de 100 capteurs:\n",
    "\n",
    "\"\"\"\n",
    "<TYPE = \"SENSOR\", DATA = \"TEMPERATURE\", X = , Y = , Z = >\n",
    "\"\"\"\n",
    "\n",
    "écrire la position des 100 capteurs, même avec Ctrl C+ Ctrl V ... même pas en rêve !\n"
   ]
  },
  {
   "cell_type": "markdown",
   "metadata": {},
   "source": [
    "#### écrire un template avec jinja2"
   ]
  },
  {
   "cell_type": "code",
   "execution_count": 27,
   "metadata": {},
   "outputs": [
    {
     "data": {
      "text/plain": [
       "'<TYPE = \"SENSOR\", DATA = \"TEMPERATURE\", X = 1 , Y = 0, Z = 1>'"
      ]
     },
     "execution_count": 27,
     "metadata": {},
     "output_type": "execute_result"
    }
   ],
   "source": [
    "template = jinja2.Template('<TYPE = \"SENSOR\", DATA = \"TEMPERATURE\", X = {{ x }} , Y = {{ y }}, Z = {{ z }}>')\n",
    "template.render(x = 1, y = 0, z = 1)"
   ]
  },
  {
   "cell_type": "code",
   "execution_count": 28,
   "metadata": {},
   "outputs": [
    {
     "name": "stdout",
     "output_type": "stream",
     "text": [
      "<TYPE = \"SENSOR\", DATA = \"TEMPERATURE\", X = 1 , Y = 0, Z = 1>\n",
      "<TYPE = \"SENSOR\", DATA = \"TEMPERATURE\", X = 1 , Y = 0, Z = 1>\n",
      "<TYPE = \"SENSOR\", DATA = \"TEMPERATURE\", X = 1 , Y = 0, Z = 1>\n",
      "<TYPE = \"SENSOR\", DATA = \"TEMPERATURE\", X = 1 , Y = 0, Z = 1>\n",
      "<TYPE = \"SENSOR\", DATA = \"TEMPERATURE\", X = 1 , Y = 0, Z = 1>\n",
      "<TYPE = \"SENSOR\", DATA = \"TEMPERATURE\", X = 1 , Y = 0, Z = 1>\n",
      "<TYPE = \"SENSOR\", DATA = \"TEMPERATURE\", X = 1 , Y = 0, Z = 1>\n",
      "<TYPE = \"SENSOR\", DATA = \"TEMPERATURE\", X = 1 , Y = 0, Z = 1>\n",
      "<TYPE = \"SENSOR\", DATA = \"TEMPERATURE\", X = 1 , Y = 0, Z = 1>\n",
      "<TYPE = \"SENSOR\", DATA = \"TEMPERATURE\", X = 1 , Y = 0, Z = 1>\n",
      "<TYPE = \"SENSOR\", DATA = \"TEMPERATURE\", X = 1 , Y = 0, Z = 1>\n",
      "<TYPE = \"SENSOR\", DATA = \"TEMPERATURE\", X = 1 , Y = 0, Z = 1>\n",
      "<TYPE = \"SENSOR\", DATA = \"TEMPERATURE\", X = 1 , Y = 0, Z = 1>\n",
      "<TYPE = \"SENSOR\", DATA = \"TEMPERATURE\", X = 1 , Y = 0, Z = 1>\n",
      "<TYPE = \"SENSOR\", DATA = \"TEMPERATURE\", X = 1 , Y = 0, Z = 1>\n",
      "<TYPE = \"SENSOR\", DATA = \"TEMPERATURE\", X = 1 , Y = 0, Z = 1>\n",
      "<TYPE = \"SENSOR\", DATA = \"TEMPERATURE\", X = 1 , Y = 0, Z = 1>\n",
      "<TYPE = \"SENSOR\", DATA = \"TEMPERATURE\", X = 1 , Y = 0, Z = 1>\n",
      "<TYPE = \"SENSOR\", DATA = \"TEMPERATURE\", X = 1 , Y = 0, Z = 1>\n",
      "<TYPE = \"SENSOR\", DATA = \"TEMPERATURE\", X = 1 , Y = 0, Z = 1>\n",
      "<TYPE = \"SENSOR\", DATA = \"TEMPERATURE\", X = 1 , Y = 0, Z = 1>\n",
      "<TYPE = \"SENSOR\", DATA = \"TEMPERATURE\", X = 1 , Y = 0, Z = 1>\n",
      "<TYPE = \"SENSOR\", DATA = \"TEMPERATURE\", X = 1 , Y = 0, Z = 1>\n",
      "<TYPE = \"SENSOR\", DATA = \"TEMPERATURE\", X = 1 , Y = 0, Z = 1>\n",
      "<TYPE = \"SENSOR\", DATA = \"TEMPERATURE\", X = 1 , Y = 0, Z = 1>\n",
      "<TYPE = \"SENSOR\", DATA = \"TEMPERATURE\", X = 1 , Y = 0, Z = 1>\n",
      "<TYPE = \"SENSOR\", DATA = \"TEMPERATURE\", X = 1 , Y = 0, Z = 1>\n",
      "<TYPE = \"SENSOR\", DATA = \"TEMPERATURE\", X = 1 , Y = 0, Z = 1>\n",
      "<TYPE = \"SENSOR\", DATA = \"TEMPERATURE\", X = 1 , Y = 0, Z = 1>\n",
      "<TYPE = \"SENSOR\", DATA = \"TEMPERATURE\", X = 1 , Y = 0, Z = 1>\n",
      "<TYPE = \"SENSOR\", DATA = \"TEMPERATURE\", X = 1 , Y = 0, Z = 1>\n",
      "<TYPE = \"SENSOR\", DATA = \"TEMPERATURE\", X = 1 , Y = 0, Z = 1>\n",
      "<TYPE = \"SENSOR\", DATA = \"TEMPERATURE\", X = 1 , Y = 0, Z = 1>\n",
      "<TYPE = \"SENSOR\", DATA = \"TEMPERATURE\", X = 1 , Y = 0, Z = 1>\n",
      "<TYPE = \"SENSOR\", DATA = \"TEMPERATURE\", X = 1 , Y = 0, Z = 1>\n",
      "<TYPE = \"SENSOR\", DATA = \"TEMPERATURE\", X = 1 , Y = 0, Z = 1>\n",
      "<TYPE = \"SENSOR\", DATA = \"TEMPERATURE\", X = 1 , Y = 0, Z = 1>\n",
      "<TYPE = \"SENSOR\", DATA = \"TEMPERATURE\", X = 1 , Y = 0, Z = 1>\n",
      "<TYPE = \"SENSOR\", DATA = \"TEMPERATURE\", X = 1 , Y = 0, Z = 1>\n",
      "<TYPE = \"SENSOR\", DATA = \"TEMPERATURE\", X = 1 , Y = 0, Z = 1>\n",
      "<TYPE = \"SENSOR\", DATA = \"TEMPERATURE\", X = 1 , Y = 0, Z = 1>\n",
      "<TYPE = \"SENSOR\", DATA = \"TEMPERATURE\", X = 1 , Y = 0, Z = 1>\n",
      "<TYPE = \"SENSOR\", DATA = \"TEMPERATURE\", X = 1 , Y = 0, Z = 1>\n",
      "<TYPE = \"SENSOR\", DATA = \"TEMPERATURE\", X = 1 , Y = 0, Z = 1>\n",
      "<TYPE = \"SENSOR\", DATA = \"TEMPERATURE\", X = 1 , Y = 0, Z = 1>\n",
      "<TYPE = \"SENSOR\", DATA = \"TEMPERATURE\", X = 1 , Y = 0, Z = 1>\n",
      "<TYPE = \"SENSOR\", DATA = \"TEMPERATURE\", X = 1 , Y = 0, Z = 1>\n",
      "<TYPE = \"SENSOR\", DATA = \"TEMPERATURE\", X = 1 , Y = 0, Z = 1>\n",
      "<TYPE = \"SENSOR\", DATA = \"TEMPERATURE\", X = 1 , Y = 0, Z = 1>\n",
      "<TYPE = \"SENSOR\", DATA = \"TEMPERATURE\", X = 1 , Y = 0, Z = 1>\n",
      "<TYPE = \"SENSOR\", DATA = \"TEMPERATURE\", X = 1 , Y = 0, Z = 1>\n",
      "<TYPE = \"SENSOR\", DATA = \"TEMPERATURE\", X = 1 , Y = 0, Z = 1>\n",
      "<TYPE = \"SENSOR\", DATA = \"TEMPERATURE\", X = 1 , Y = 0, Z = 1>\n",
      "<TYPE = \"SENSOR\", DATA = \"TEMPERATURE\", X = 1 , Y = 0, Z = 1>\n",
      "<TYPE = \"SENSOR\", DATA = \"TEMPERATURE\", X = 1 , Y = 0, Z = 1>\n",
      "<TYPE = \"SENSOR\", DATA = \"TEMPERATURE\", X = 1 , Y = 0, Z = 1>\n",
      "<TYPE = \"SENSOR\", DATA = \"TEMPERATURE\", X = 1 , Y = 0, Z = 1>\n",
      "<TYPE = \"SENSOR\", DATA = \"TEMPERATURE\", X = 1 , Y = 0, Z = 1>\n",
      "<TYPE = \"SENSOR\", DATA = \"TEMPERATURE\", X = 1 , Y = 0, Z = 1>\n",
      "<TYPE = \"SENSOR\", DATA = \"TEMPERATURE\", X = 1 , Y = 0, Z = 1>\n",
      "<TYPE = \"SENSOR\", DATA = \"TEMPERATURE\", X = 1 , Y = 0, Z = 1>\n",
      "<TYPE = \"SENSOR\", DATA = \"TEMPERATURE\", X = 1 , Y = 0, Z = 1>\n",
      "<TYPE = \"SENSOR\", DATA = \"TEMPERATURE\", X = 1 , Y = 0, Z = 1>\n",
      "<TYPE = \"SENSOR\", DATA = \"TEMPERATURE\", X = 1 , Y = 0, Z = 1>\n",
      "<TYPE = \"SENSOR\", DATA = \"TEMPERATURE\", X = 1 , Y = 0, Z = 1>\n",
      "<TYPE = \"SENSOR\", DATA = \"TEMPERATURE\", X = 1 , Y = 0, Z = 1>\n",
      "<TYPE = \"SENSOR\", DATA = \"TEMPERATURE\", X = 1 , Y = 0, Z = 1>\n",
      "<TYPE = \"SENSOR\", DATA = \"TEMPERATURE\", X = 1 , Y = 0, Z = 1>\n",
      "<TYPE = \"SENSOR\", DATA = \"TEMPERATURE\", X = 1 , Y = 0, Z = 1>\n",
      "<TYPE = \"SENSOR\", DATA = \"TEMPERATURE\", X = 1 , Y = 0, Z = 1>\n",
      "<TYPE = \"SENSOR\", DATA = \"TEMPERATURE\", X = 1 , Y = 0, Z = 1>\n",
      "<TYPE = \"SENSOR\", DATA = \"TEMPERATURE\", X = 1 , Y = 0, Z = 1>\n",
      "<TYPE = \"SENSOR\", DATA = \"TEMPERATURE\", X = 1 , Y = 0, Z = 1>\n",
      "<TYPE = \"SENSOR\", DATA = \"TEMPERATURE\", X = 1 , Y = 0, Z = 1>\n",
      "<TYPE = \"SENSOR\", DATA = \"TEMPERATURE\", X = 1 , Y = 0, Z = 1>\n",
      "<TYPE = \"SENSOR\", DATA = \"TEMPERATURE\", X = 1 , Y = 0, Z = 1>\n",
      "<TYPE = \"SENSOR\", DATA = \"TEMPERATURE\", X = 1 , Y = 0, Z = 1>\n",
      "<TYPE = \"SENSOR\", DATA = \"TEMPERATURE\", X = 1 , Y = 0, Z = 1>\n",
      "<TYPE = \"SENSOR\", DATA = \"TEMPERATURE\", X = 1 , Y = 0, Z = 1>\n",
      "<TYPE = \"SENSOR\", DATA = \"TEMPERATURE\", X = 1 , Y = 0, Z = 1>\n",
      "<TYPE = \"SENSOR\", DATA = \"TEMPERATURE\", X = 1 , Y = 0, Z = 1>\n",
      "<TYPE = \"SENSOR\", DATA = \"TEMPERATURE\", X = 1 , Y = 0, Z = 1>\n",
      "<TYPE = \"SENSOR\", DATA = \"TEMPERATURE\", X = 1 , Y = 0, Z = 1>\n",
      "<TYPE = \"SENSOR\", DATA = \"TEMPERATURE\", X = 1 , Y = 0, Z = 1>\n",
      "<TYPE = \"SENSOR\", DATA = \"TEMPERATURE\", X = 1 , Y = 0, Z = 1>\n",
      "<TYPE = \"SENSOR\", DATA = \"TEMPERATURE\", X = 1 , Y = 0, Z = 1>\n",
      "<TYPE = \"SENSOR\", DATA = \"TEMPERATURE\", X = 1 , Y = 0, Z = 1>\n",
      "<TYPE = \"SENSOR\", DATA = \"TEMPERATURE\", X = 1 , Y = 0, Z = 1>\n",
      "<TYPE = \"SENSOR\", DATA = \"TEMPERATURE\", X = 1 , Y = 0, Z = 1>\n",
      "<TYPE = \"SENSOR\", DATA = \"TEMPERATURE\", X = 1 , Y = 0, Z = 1>\n",
      "<TYPE = \"SENSOR\", DATA = \"TEMPERATURE\", X = 1 , Y = 0, Z = 1>\n",
      "<TYPE = \"SENSOR\", DATA = \"TEMPERATURE\", X = 1 , Y = 0, Z = 1>\n",
      "<TYPE = \"SENSOR\", DATA = \"TEMPERATURE\", X = 1 , Y = 0, Z = 1>\n",
      "<TYPE = \"SENSOR\", DATA = \"TEMPERATURE\", X = 1 , Y = 0, Z = 1>\n",
      "<TYPE = \"SENSOR\", DATA = \"TEMPERATURE\", X = 1 , Y = 0, Z = 1>\n",
      "<TYPE = \"SENSOR\", DATA = \"TEMPERATURE\", X = 1 , Y = 0, Z = 1>\n",
      "<TYPE = \"SENSOR\", DATA = \"TEMPERATURE\", X = 1 , Y = 0, Z = 1>\n",
      "<TYPE = \"SENSOR\", DATA = \"TEMPERATURE\", X = 1 , Y = 0, Z = 1>\n",
      "<TYPE = \"SENSOR\", DATA = \"TEMPERATURE\", X = 1 , Y = 0, Z = 1>\n",
      "<TYPE = \"SENSOR\", DATA = \"TEMPERATURE\", X = 1 , Y = 0, Z = 1>\n"
     ]
    }
   ],
   "source": [
    "for x in range(0,100):\n",
    "    \n",
    "    print(template.render(x = 1, y = 0, z = 1))"
   ]
  },
  {
   "cell_type": "markdown",
   "metadata": {},
   "source": [
    "petit exercice, écrire la sortie vers un fichier nommé \"capteurs_temperature.txt\""
   ]
  },
  {
   "cell_type": "code",
   "execution_count": 31,
   "metadata": {},
   "outputs": [],
   "source": [
    "with open(\"capteurs_temperature.txt\", \"w\") as f:\n",
    "    \n",
    "    for x in range(0,100):\n",
    "    \n",
    "        f.write(template.render(x = x, y = 0, z = 1) + '\\n')"
   ]
  },
  {
   "cell_type": "code",
   "execution_count": 13,
   "metadata": {},
   "outputs": [
    {
     "output_type": "error",
     "ename": "FileNotFoundError",
     "evalue": "[Errno 2] No such file or directory: 'capteurs_temperature.txt'",
     "traceback": [
      "\u001b[1;31m---------------------------------------------------------------------------\u001b[0m",
      "\u001b[1;31mFileNotFoundError\u001b[0m                         Traceback (most recent call last)",
      "\u001b[1;32m<ipython-input-13-6e37f5068e89>\u001b[0m in \u001b[0;36m<module>\u001b[1;34m\u001b[0m\n\u001b[1;32m----> 1\u001b[1;33m \u001b[1;32mwith\u001b[0m \u001b[0mopen\u001b[0m\u001b[1;33m(\u001b[0m\u001b[1;34m\"capteurs_temperature.txt\"\u001b[0m\u001b[1;33m,\u001b[0m \u001b[1;34m\"r\"\u001b[0m\u001b[1;33m)\u001b[0m \u001b[1;32mas\u001b[0m \u001b[0mf\u001b[0m\u001b[1;33m:\u001b[0m\u001b[1;33m\u001b[0m\u001b[1;33m\u001b[0m\u001b[0m\n\u001b[0m\u001b[0;32m      2\u001b[0m \u001b[1;33m\u001b[0m\u001b[0m\n\u001b[0;32m      3\u001b[0m     \u001b[1;32mfor\u001b[0m \u001b[0mline\u001b[0m \u001b[1;32min\u001b[0m \u001b[0mf\u001b[0m\u001b[1;33m:\u001b[0m\u001b[1;33m\u001b[0m\u001b[1;33m\u001b[0m\u001b[0m\n\u001b[0;32m      4\u001b[0m \u001b[1;33m\u001b[0m\u001b[0m\n\u001b[0;32m      5\u001b[0m         \u001b[0mprint\u001b[0m\u001b[1;33m(\u001b[0m\u001b[0mline\u001b[0m\u001b[1;33m)\u001b[0m\u001b[1;33m\u001b[0m\u001b[1;33m\u001b[0m\u001b[0m\n",
      "\u001b[1;31mFileNotFoundError\u001b[0m: [Errno 2] No such file or directory: 'capteurs_temperature.txt'"
     ]
    }
   ],
   "source": [
    "with open(\"capteurs_temperature.txt\", \"r\") as f:\n",
    "    \n",
    "    for line in f:\n",
    "        \n",
    "        print(line)\n",
    "    "
   ]
  },
  {
   "cell_type": "code",
   "execution_count": 12,
   "metadata": {},
   "outputs": [
    {
     "output_type": "stream",
     "name": "stdout",
     "text": [
      "erreur de type\n"
     ]
    }
   ],
   "source": [
    "try:\n",
    "    test = 1 + '1'\n",
    "\n",
    "    with open(\"test_fichier.txt\", \"r\") as f:\n",
    "\n",
    "            print(f.readlines())\n",
    "            \n",
    "\n",
    "except FileNotFoundError: \n",
    "    \n",
    "    print(\"fichier non existant\")\n",
    "except TypeError:\n",
    "    print(\"erreur de type\")"
   ]
  },
  {
   "cell_type": "code",
   "execution_count": null,
   "metadata": {},
   "outputs": [],
   "source": []
  }
 ],
 "metadata": {
  "kernelspec": {
   "name": "python3",
   "display_name": "Python 3.9.1 64-bit",
   "metadata": {
    "interpreter": {
     "hash": "553fde94cf21fea3c15f46ca3b92f17d4d8765a9f325c0781d136ffdb5e73663"
    }
   }
  },
  "language_info": {
   "codemirror_mode": {
    "name": "ipython",
    "version": 3
   },
   "file_extension": ".py",
   "mimetype": "text/x-python",
   "name": "python",
   "nbconvert_exporter": "python",
   "pygments_lexer": "ipython3",
   "version": "3.9.1-final"
  }
 },
 "nbformat": 4,
 "nbformat_minor": 4
}