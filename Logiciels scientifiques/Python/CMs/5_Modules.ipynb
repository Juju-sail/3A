{
 "cells": [
  {
   "cell_type": "markdown",
   "metadata": {
    "slideshow": {
     "slide_type": "slide"
    }
   },
   "source": [
    "# 6_Les modules"
   ]
  },
  {
   "cell_type": "markdown",
   "metadata": {
    "slideshow": {
     "slide_type": "subslide"
    }
   },
   "source": [
    "Python est extensible par l'ajout de fonctions annexes.\n",
    "\n",
    "La communauté python étant très vaste, il est possible d'enrichir ses programmes à l'aide de modules."
   ]
  },
  {
   "cell_type": "markdown",
   "metadata": {
    "slideshow": {
     "slide_type": "subslide"
    }
   },
   "source": [
    "Modules: collection de fonctions python permettant d'ajouter de nouvelles fonctionnalités:\n",
    "\n",
    "- machine learning\n",
    "- création de figures\n",
    "- création de jeux\n",
    "- fonctions mathématiques\n",
    "- traitement d'images\n",
    "- astronomie\n",
    "- et encore bien d'autres !!"
   ]
  },
  {
   "cell_type": "markdown",
   "metadata": {
    "slideshow": {
     "slide_type": "slide"
    }
   },
   "source": [
    "## A. Les modules célèbres\n"
   ]
  },
  {
   "cell_type": "markdown",
   "metadata": {
    "slideshow": {
     "slide_type": "subslide"
    }
   },
   "source": [
    "\n",
    "- numpy + scipy : l'équivalent Matlab\n",
    "- matplotlib : créer ses propres figures \n",
    "- pygame : création de jeux 2d\n",
    "- pandas : data science\n",
    "- opencv : traitement d'images (implementation c++ mais compatible avec python)"
   ]
  },
  {
   "cell_type": "markdown",
   "metadata": {
    "slideshow": {
     "slide_type": "subslide"
    }
   },
   "source": [
    "Nous verrons comment utiliser quelques un de ces modules dans les cours suivants. Mais avant, il faut comprendre exactement comment:\n",
    "\n",
    "- installer un module\n",
    "- importer un module\n",
    "- comprendre le système de namespace\n",
    "- comment fonctionne un module"
   ]
  },
  {
   "cell_type": "markdown",
   "metadata": {
    "slideshow": {
     "slide_type": "slide"
    }
   },
   "source": [
    "## B. Installer un module"
   ]
  },
  {
   "cell_type": "markdown",
   "metadata": {
    "slideshow": {
     "slide_type": "subslide"
    }
   },
   "source": [
    "Par défaut python est livré avec de nombreux modules mais la plupart du temps il est nécessaire d'ajouter de nouveaux modules. Il existe deux principaux moyens pour installer un module\n",
    "\n",
    "- pip\n",
    "- conda\n",
    "\n",
    "Ce sont des gestionnaires de paquets. Ils permettent de télécharger les programmes python directement dans un répertoire connu par votre interpréteur python. Ces programmes peuvent ensuite être importés directement dans le programme que vous êtes en train d'écrire."
   ]
  },
  {
   "cell_type": "markdown",
   "metadata": {
    "slideshow": {
     "slide_type": "subslide"
    }
   },
   "source": [
    "### pip"
   ]
  },
  {
   "cell_type": "markdown",
   "metadata": {
    "slideshow": {
     "slide_type": "subslide"
    }
   },
   "source": [
    "Objectif: Installer un module permettant d'afficher des barres de chargement dans un programme\n",
    "\n",
    "Etapes:\n",
    "\n",
    "- ouvrir un terminal conda\n",
    "- lancer la commande suivante: pip install *nom_du_paquet* --user\n",
    "- pour progressbar: pip install *progressbar2* --user\n",
    "\n",
    "Il est important de spécifier user (pas besoin des droits administrateurs)"
   ]
  },
  {
   "cell_type": "markdown",
   "metadata": {
    "slideshow": {
     "slide_type": "subslide"
    }
   },
   "source": [
    "### conda (basé sur le système anaconda)"
   ]
  },
  {
   "cell_type": "markdown",
   "metadata": {
    "slideshow": {
     "slide_type": "subslide"
    }
   },
   "source": [
    "Objectif: Installer un module permettant d'afficher des barres de chargement dans un programme\n",
    "\n",
    "Etapes:\n",
    "\n",
    "- ouvrir un terminal conda\n",
    "- regarder où trouver le module avec conda\n",
    "- lancer la commande suivante:  conda install -c conda-forge progressbar2  \n",
    "\n",
    "\n",
    "-c permet de spécifier dans quel \"répertoire\" aller chercher le module. Ici on regarde dans \"conda-forge\" qui est un équivalent \"github\""
   ]
  },
  {
   "cell_type": "markdown",
   "metadata": {
    "slideshow": {
     "slide_type": "subslide"
    }
   },
   "source": [
    "Maintenant testons ! (il faut parfois redémarrer le kernel -- voir le menu en haut)"
   ]
  },
  {
   "cell_type": "code",
   "execution_count": null,
   "metadata": {},
   "outputs": [],
   "source": [
    "import progressbar\n",
    "import time # sleep function"
   ]
  },
  {
   "cell_type": "code",
   "execution_count": null,
   "metadata": {},
   "outputs": [],
   "source": [
    "test = 0 \n",
    "\n",
    "for i in range(0,100):\n",
    "    \n",
    "    test += 1"
   ]
  },
  {
   "cell_type": "code",
   "execution_count": null,
   "metadata": {},
   "outputs": [],
   "source": [
    "test = 0 \n",
    "\n",
    "for i in progressbar.progressbar(range(0,100)):\n",
    "    \n",
    "    time.sleep(0.5)\n",
    "    test += 1"
   ]
  },
  {
   "cell_type": "markdown",
   "metadata": {},
   "source": [
    "## C. Le module math"
   ]
  },
  {
   "cell_type": "markdown",
   "metadata": {},
   "source": [
    "ce module est déjà disponible par défaut avec python. Ce module contient la plupart des fonctions mathématiques et quelques constantes telles que pi."
   ]
  },
  {
   "cell_type": "code",
   "execution_count": null,
   "metadata": {},
   "outputs": [],
   "source": [
    "import math"
   ]
  },
  {
   "cell_type": "markdown",
   "metadata": {},
   "source": [
    "## D. Le namespace des modules"
   ]
  },
  {
   "cell_type": "markdown",
   "metadata": {},
   "source": [
    "il existe différentes manières d'importer un module"
   ]
  },
  {
   "cell_type": "markdown",
   "metadata": {},
   "source": [
    "### méthode 1 :  classique"
   ]
  },
  {
   "cell_type": "code",
   "execution_count": 6,
   "metadata": {},
   "outputs": [],
   "source": [
    "import math"
   ]
  },
  {
   "cell_type": "markdown",
   "metadata": {},
   "source": [
    "dans ce cas, il faut utiliser la nom du module pour accéder aux fonctions et variables."
   ]
  },
  {
   "cell_type": "code",
   "execution_count": 7,
   "metadata": {},
   "outputs": [
    {
     "data": {
      "text/plain": [
       "3.141592653589793"
      ]
     },
     "execution_count": 7,
     "metadata": {},
     "output_type": "execute_result"
    }
   ],
   "source": [
    "math.pi"
   ]
  },
  {
   "cell_type": "code",
   "execution_count": 8,
   "metadata": {},
   "outputs": [
    {
     "data": {
      "text/plain": [
       "-1.0"
      ]
     },
     "execution_count": 8,
     "metadata": {},
     "output_type": "execute_result"
    }
   ],
   "source": [
    "math.cos(math.pi)"
   ]
  },
  {
   "cell_type": "markdown",
   "metadata": {},
   "source": [
    "### méthode 2 : changement du nom du module"
   ]
  },
  {
   "cell_type": "code",
   "execution_count": null,
   "metadata": {},
   "outputs": [],
   "source": [
    "import math as m"
   ]
  },
  {
   "cell_type": "code",
   "execution_count": null,
   "metadata": {},
   "outputs": [],
   "source": [
    "m.pi"
   ]
  },
  {
   "cell_type": "markdown",
   "metadata": {},
   "source": [
    "Cette méthode est très utilisée, notamment pour les modules couramment utilisés dans la communauté et dont le nom de modules est très long.\n",
    "\n",
    "Exemples pour les modules souvent utilisés:\n",
    "\n",
    "- matplotlib.pyplot as plt\n",
    "- numpy as np\n",
    "- pandas as pd\n",
    "- tkinter as tk\n",
    "\n"
   ]
  },
  {
   "cell_type": "markdown",
   "metadata": {},
   "source": [
    "### méthode 3 : importation partielle"
   ]
  },
  {
   "cell_type": "markdown",
   "metadata": {},
   "source": [
    "On peut aussi importer seulement quelques fonctions."
   ]
  },
  {
   "cell_type": "code",
   "execution_count": 9,
   "metadata": {},
   "outputs": [],
   "source": [
    "from math import pi"
   ]
  },
  {
   "cell_type": "markdown",
   "metadata": {},
   "source": [
    "Dans ce cas là, nous n'avons pas besoin de spécifier le nom du module. Fonctions et variables sont directement intégrées."
   ]
  },
  {
   "cell_type": "code",
   "execution_count": 10,
   "metadata": {},
   "outputs": [
    {
     "data": {
      "text/plain": [
       "3.141592653589793"
      ]
     },
     "execution_count": 10,
     "metadata": {},
     "output_type": "execute_result"
    }
   ],
   "source": [
    "pi"
   ]
  },
  {
   "cell_type": "markdown",
   "metadata": {},
   "source": [
    "Il faut être très prudent qu'une importation partielle n'efface par une fonction prédéfinie avec le même nom."
   ]
  },
  {
   "cell_type": "code",
   "execution_count": null,
   "metadata": {},
   "outputs": [],
   "source": [
    "def pi ():\n",
    "    return 3.14\n",
    "\n",
    "from math import pi"
   ]
  },
  {
   "cell_type": "code",
   "execution_count": 14,
   "metadata": {},
   "outputs": [
    {
     "data": {
      "text/plain": [
       "3.141592653589793"
      ]
     },
     "execution_count": 14,
     "metadata": {},
     "output_type": "execute_result"
    }
   ],
   "source": [
    "pi"
   ]
  },
  {
   "cell_type": "markdown",
   "metadata": {},
   "source": [
    "### Wildcard imports"
   ]
  },
  {
   "cell_type": "markdown",
   "metadata": {},
   "source": [
    "Cela permet d'importer l'ensemble des fonctions/variables/objets du module. Lors de l'utilisation, il n'est plus nécessaire de spécifier le nom du module."
   ]
  },
  {
   "cell_type": "code",
   "execution_count": 15,
   "metadata": {},
   "outputs": [],
   "source": [
    "from math import *"
   ]
  },
  {
   "cell_type": "markdown",
   "metadata": {},
   "source": [
    "Dangereux à utiliser:\n",
    "\n",
    "- peut effacer des fonctions déjà définies\n",
    "- rend le code difficile à lire ou à comprendre: nous ne savons pas d'où proviennent les fonctions"
   ]
  },
  {
   "cell_type": "markdown",
   "metadata": {},
   "source": [
    "### Placement des imports dans un script"
   ]
  },
  {
   "cell_type": "markdown",
   "metadata": {},
   "source": [
    "Le pep8 recommande de placer les imports au début de vos scripts afin de faciliter la lecture de votre code et de connaître rapidement toutes les dépendances de votre code.\n",
    "\n",
    "Cependant, il est aussi possible (et nécessaire) de placer un import dans votre code."
   ]
  },
  {
   "cell_type": "code",
   "execution_count": 16,
   "metadata": {},
   "outputs": [
    {
     "data": {
      "text/plain": [
       "3.141592653589793"
      ]
     },
     "execution_count": 16,
     "metadata": {},
     "output_type": "execute_result"
    }
   ],
   "source": [
    "def detect():\n",
    "    import math\n",
    "    \n",
    "math.pi"
   ]
  },
  {
   "cell_type": "markdown",
   "metadata": {},
   "source": [
    "Le module n'est importé que si la fonction detect est appelée. Ainsi l'importation n'est pas obligatoire lors de l'execution de votre code."
   ]
  },
  {
   "cell_type": "markdown",
   "metadata": {},
   "source": [
    "## E. Où trouver de l'aide ?"
   ]
  },
  {
   "cell_type": "markdown",
   "metadata": {},
   "source": [
    "Lors de l'utilisation d'un module, la première phase est de comprendre comment il marche et quelles sont les fonctions disponibles. Voici une liste des ressources qui peuvent vous aider:\n",
    "\n",
    "- google\n",
    "- si le module est disponnible sur pip [module](https://pypi.org/project/pip/)\n",
    "- il existe 'parfois' un site internet du module\n",
    "- dans une console python la fonction help()\n",
    "- la commande python -m pydoc \"nom de la fonction ou module\""
   ]
  },
  {
   "cell_type": "markdown",
   "metadata": {},
   "source": [
    "# Virtual environnement"
   ]
  },
  {
   "cell_type": "markdown",
   "metadata": {},
   "source": [
    "Lors du développement d'un logiciel ou projet, votre code dépend de certains modules. Or il est souvent nécessaire de travailler avec une version spécifique du module pour éviter les bugs. Dans ce cas, il est possible de créer une environnement spécifique avec la version des modules que vous voulez.\n",
    "\n",
    "[virtual env](https://realpython.com/python-virtual-environments-a-primer/)\n"
   ]
  }
 ],
 "metadata": {
  "celltoolbar": "Slideshow",
  "kernelspec": {
   "display_name": "Python 3",
   "language": "python",
   "name": "python3"
  },
  "language_info": {
   "codemirror_mode": {
    "name": "ipython",
    "version": 3
   },
   "file_extension": ".py",
   "mimetype": "text/x-python",
   "name": "python",
   "nbconvert_exporter": "python",
   "pygments_lexer": "ipython3",
   "version": "3.8.5"
  }
 },
 "nbformat": 4,
 "nbformat_minor": 2
}
