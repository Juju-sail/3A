{
 "cells": [
  {
   "cell_type": "markdown",
   "metadata": {
    "slideshow": {
     "slide_type": "slide"
    }
   },
   "source": [
    "# 2_Les structures conditionnelles"
   ]
  },
  {
   "cell_type": "markdown",
   "metadata": {
    "slideshow": {
     "slide_type": "slide"
    }
   },
   "source": [
    "## A. Le type booléen\n",
    "\n",
    "Un booléen est un type donné qui ne peut prendre que deux valeurs: \n",
    "- True\n",
    "- False"
   ]
  },
  {
   "cell_type": "code",
   "execution_count": null,
   "metadata": {
    "slideshow": {
     "slide_type": "subslide"
    }
   },
   "outputs": [],
   "source": [
    "5 == 6"
   ]
  },
  {
   "cell_type": "code",
   "execution_count": null,
   "metadata": {
    "slideshow": {
     "slide_type": "fragment"
    }
   },
   "outputs": [],
   "source": [
    "6 == 6"
   ]
  },
  {
   "cell_type": "code",
   "execution_count": null,
   "metadata": {
    "slideshow": {
     "slide_type": "subslide"
    }
   },
   "outputs": [],
   "source": [
    "\"Bob\" == \"bob\""
   ]
  },
  {
   "cell_type": "code",
   "execution_count": null,
   "metadata": {
    "slideshow": {
     "slide_type": "fragment"
    }
   },
   "outputs": [],
   "source": [
    "\"Bob\" == \"Bob\""
   ]
  },
  {
   "cell_type": "markdown",
   "metadata": {
    "slideshow": {
     "slide_type": "slide"
    }
   },
   "source": [
    "## B. La boucle FOR\n",
    "\n",
    "En Python, l'indentation est utilisée pour délimiter certaines parties du code que l'on nomme *bloc*"
   ]
  },
  {
   "cell_type": "markdown",
   "metadata": {
    "slideshow": {
     "slide_type": "slide"
    }
   },
   "source": [
    "### a. if\n",
    "\n",
    "L'expression *if* est utilisée pour tester si une condition est remplie\n",
    "\n",
    "```\n",
    "if condition:\n",
    "    \n",
    "    print(\"condition vraie\")\n",
    "\n",
    "```\n",
    "\n",
    "Exemple:"
   ]
  },
  {
   "cell_type": "code",
   "execution_count": null,
   "metadata": {
    "slideshow": {
     "slide_type": "fragment"
    }
   },
   "outputs": [],
   "source": [
    "nombre_joueurs = 10\n",
    "\n",
    "if nombre_joueurs == 10 :\n",
    "    \n",
    "    print(\"Il ya 10 joueurs sur le serveur\")\n",
    "\n",
    "print(\"fin du bloc if\")"
   ]
  },
  {
   "cell_type": "markdown",
   "metadata": {
    "slideshow": {
     "slide_type": "slide"
    }
   },
   "source": [
    "###  b. if ... else\n",
    "\n",
    "On peut également définir une option par défaut si la condition n'est pas remplie.\n",
    "\n",
    "```\n",
    "if condition:\n",
    "    \n",
    "    print(\"condition vraie\")\n",
    "    \n",
    "else:\n",
    "\n",
    "    print(\"condition fausse\")\n",
    "\n",
    "```\n",
    "\n",
    "Exemple:"
   ]
  },
  {
   "cell_type": "code",
   "execution_count": null,
   "metadata": {
    "slideshow": {
     "slide_type": "fragment"
    }
   },
   "outputs": [],
   "source": [
    "nombre_joueurs = 20\n",
    "\n",
    "if nombre_joueurs == 10 :\n",
    "    \n",
    "    print(\"Il y a 10 joueurs sur le serveur\")\n",
    "    \n",
    "else :\n",
    "    \n",
    "    print(\"Il y a trop ou pas assez de joueurs\")"
   ]
  },
  {
   "cell_type": "markdown",
   "metadata": {
    "slideshow": {
     "slide_type": "slide"
    }
   },
   "source": [
    "### c. if ... elif ... else\n",
    "\n",
    "On peut également ajouter d'autres conditions. Si la première est fausse alors on teste le premier *elif*. Si le premier *elif* est faux alors on test le second *elif* ...\n",
    "\n",
    "\n",
    "```\n",
    "if condition:\n",
    "    \n",
    "    print(\"condition vraie\")\n",
    "\n",
    "elif condition2:\n",
    "\n",
    "    print(\"la condition2 est vraie\")\n",
    "    \n",
    "else:\n",
    "\n",
    "    print(\"condition1 et 2 sont fausses\")\n",
    "\n",
    "```\n",
    "\n",
    "Exemple:"
   ]
  },
  {
   "cell_type": "code",
   "execution_count": null,
   "metadata": {
    "slideshow": {
     "slide_type": "subslide"
    }
   },
   "outputs": [],
   "source": [
    "nombre_joueurs = 20\n",
    "\n",
    "if nombre_joueurs == 10:\n",
    "    \n",
    "    print(\"Il y a 10 joueurs sur le serveur\")\n",
    "\n",
    "elif nombre_joueurs == 20:\n",
    "    \n",
    "    print(\"Il y a 20 joueurs sur le serveur\")\n",
    "    \n",
    "else:\n",
    "    \n",
    "    print(\"Il y a trop ou pas assez de joueurs\")"
   ]
  },
  {
   "cell_type": "markdown",
   "metadata": {
    "slideshow": {
     "slide_type": "subslide"
    }
   },
   "source": [
    "### d. Remarque\n",
    "\n",
    "Les conditions peuvent aussi s'appliquer sur des chaînes de caractères ou des floats."
   ]
  },
  {
   "cell_type": "code",
   "execution_count": null,
   "metadata": {
    "slideshow": {
     "slide_type": "fragment"
    }
   },
   "outputs": [],
   "source": [
    "nom_joueur = \"gamerdu35\"\n",
    "\n",
    "if nom_joueur == \"gamerdu35\":\n",
    "    \n",
    "    print(\"Ce joueur a été banni des serveurs\")\n",
    "\n",
    "else:\n",
    "    \n",
    "    print(\"Bienvenue sur le serveur\")"
   ]
  },
  {
   "cell_type": "markdown",
   "metadata": {},
   "source": [
    "## B. La boucle WHILE"
   ]
  },
  {
   "cell_type": "markdown",
   "metadata": {},
   "source": [
    "## While\n",
    "Boucle qui continue tant que la condition est vraie."
   ]
  },
  {
   "cell_type": "code",
   "execution_count": 1,
   "metadata": {},
   "outputs": [
    {
     "name": "stdout",
     "output_type": "stream",
     "text": [
      "valeur de la condition  1\n",
      "valeur de la condition  2\n",
      "valeur de la condition  3\n",
      "valeur de la condition  4\n",
      "valeur de la condition  5\n",
      "valeur de la condition  6\n",
      "valeur de la condition  7\n",
      "valeur de la condition  8\n",
      "valeur de la condition  9\n",
      "valeur de la condition  10\n"
     ]
    }
   ],
   "source": [
    "condition = 1\n",
    "\n",
    "while condition <= 10:\n",
    "    \n",
    "    print(\"valeur de la condition \", condition)\n",
    "    \n",
    "    condition += 1 # oui on peut aussi incrementer comme ça en python :D"
   ]
  },
  {
   "cell_type": "markdown",
   "metadata": {},
   "source": [
    "Nous le verrons mais il est courrant d'utiliser des boucles infinies, notamment pour les applications graphiques."
   ]
  },
  {
   "cell_type": "code",
   "execution_count": 2,
   "metadata": {},
   "outputs": [
    {
     "name": "stdout",
     "output_type": "stream",
     "text": [
      "Que voullez-vous faire ? test\n",
      "Que voullez-vous faire ? quit\n"
     ]
    }
   ],
   "source": [
    "while True:\n",
    "    \n",
    "    reponse = input(\"Que voullez-vous faire ? \")\n",
    "    \n",
    "    if reponse == \"quit\":\n",
    "        \n",
    "        break"
   ]
  },
  {
   "cell_type": "markdown",
   "metadata": {},
   "source": [
    "Quel nouveau mot clé est apparu ?\n",
    "\n",
    "Avez vous une idée de son utilité ?"
   ]
  },
  {
   "cell_type": "code",
   "execution_count": 3,
   "metadata": {},
   "outputs": [
    {
     "name": "stdout",
     "output_type": "stream",
     "text": [
      "Who are you?\n",
      "Frederic\n",
      "Who are you?\n",
      "Joe\n",
      "Hello, Joe. What is the password? (It is a fish.)\n",
      "whale\n",
      "Who are you?\n",
      "swordfish\n",
      "Who are you?\n",
      "Joe\n",
      "Hello, Joe. What is the password? (It is a fish.)\n",
      "swordfish\n",
      "Access granted.\n"
     ]
    }
   ],
   "source": [
    "while True:\n",
    "    \n",
    "    print('Who are you?')\n",
    "\n",
    "    name = input()\n",
    "    \n",
    "    if name != 'Joe':       \n",
    "    \n",
    "        continue              \n",
    "    \n",
    "    print('Hello, Joe. What is the password? (It is a fish.)') \n",
    "\n",
    "    password = input()      \n",
    "    \n",
    "    if password == 'swordfish':\n",
    "    \n",
    "        break                 \n",
    "        \n",
    "print('Access granted.') "
   ]
  },
  {
   "cell_type": "markdown",
   "metadata": {
    "slideshow": {
     "slide_type": "slide"
    }
   },
   "source": [
    "## C. Opérateurs de comparaison"
   ]
  },
  {
   "cell_type": "markdown",
   "metadata": {
    "slideshow": {
     "slide_type": "subslide"
    }
   },
   "source": [
    "### a. Egalité\n",
    "\n",
    "```\n",
    "if variable == valeur:\n",
    "    \n",
    "    print(\"condition vraie\")\n",
    "```\n",
    "\n",
    "Exemple:"
   ]
  },
  {
   "cell_type": "code",
   "execution_count": null,
   "metadata": {
    "slideshow": {
     "slide_type": "fragment"
    }
   },
   "outputs": [],
   "source": [
    "nombre_joueurs = 20\n",
    "\n",
    "if nombre_joueurs == 10:\n",
    "    \n",
    "    print(\"Il ya 10 joueurs sur le serveur\")\n",
    "    \n",
    "else:\n",
    "    \n",
    "    print(\"Il y a trop ou pas assez de joueurs\")"
   ]
  },
  {
   "cell_type": "markdown",
   "metadata": {
    "slideshow": {
     "slide_type": "subslide"
    }
   },
   "source": [
    "### b. Infériorité\n",
    "\n",
    "```\n",
    "if variable < valeur:\n",
    "    \n",
    "    print(\"condition vraie\")\n",
    "```"
   ]
  },
  {
   "cell_type": "markdown",
   "metadata": {
    "slideshow": {
     "slide_type": "subslide"
    }
   },
   "source": [
    "### c. Supériorité\n",
    "\n",
    "```\n",
    "if variable > valeur:\n",
    "    \n",
    "    print(\"condition vraie\")\n",
    "```"
   ]
  },
  {
   "cell_type": "markdown",
   "metadata": {
    "slideshow": {
     "slide_type": "subslide"
    }
   },
   "source": [
    "### d. Combinaison de conditions"
   ]
  },
  {
   "cell_type": "markdown",
   "metadata": {
    "slideshow": {
     "slide_type": "subslide"
    }
   },
   "source": [
    "**AND**\n",
    "\n",
    "```\n",
    "if condition1 and condition2:\n",
    "    \n",
    "    print(\"condition 1 ET condition 2 sont vraies\")\n",
    "```\n",
    "\n",
    "**OR**\n",
    "\n",
    "```\n",
    "if condition1 or condition2:\n",
    "    \n",
    "    print(\"condition 1 OU condition 2 est vraie\")\n",
    "```\n",
    "\n",
    "**Instructions imbriquées / Nested conditional**\n",
    "\n",
    "On peut également ajouteur des blocs conditionnels au sein d'un bloc conditionnel existant\n",
    "\n",
    "```\n",
    "if x < y:\n",
    "    print(\"x est plus petit que y\")\n",
    "else:\n",
    "    if x > y:\n",
    "        print(\"x est plus grand que y\")\n",
    "    else:\n",
    "        print(\"x et y sont égaux\")\n",
    "```"
   ]
  }
 ],
 "metadata": {
  "celltoolbar": "Slideshow",
  "kernelspec": {
   "display_name": "Python 3",
   "language": "python",
   "name": "python3"
  },
  "language_info": {
   "codemirror_mode": {
    "name": "ipython",
    "version": 3
   },
   "file_extension": ".py",
   "mimetype": "text/x-python",
   "name": "python",
   "nbconvert_exporter": "python",
   "pygments_lexer": "ipython3",
   "version": "3.8.5"
  }
 },
 "nbformat": 4,
 "nbformat_minor": 2
}
