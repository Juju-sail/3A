{
 "metadata": {
  "language_info": {
   "codemirror_mode": {
    "name": "ipython",
    "version": 3
   },
   "file_extension": ".py",
   "mimetype": "text/x-python",
   "name": "python",
   "nbconvert_exporter": "python",
   "pygments_lexer": "ipython3",
   "version": "3.9.1-final"
  },
  "orig_nbformat": 2,
  "kernelspec": {
   "name": "python3",
   "display_name": "Python 3.9.1 64-bit",
   "metadata": {
    "interpreter": {
     "hash": "553fde94cf21fea3c15f46ca3b92f17d4d8765a9f325c0781d136ffdb5e73663"
    }
   }
  }
 },
 "nbformat": 4,
 "nbformat_minor": 2,
 "cells": [
  {
   "source": [
    "# TD6 - Fonctions\n",
    "\n",
    "## Exercice 1 \n",
    "\n",
    "### Ecrire une fonction qui dessine un sapin avec comme paramètre d'entrée la largeur du sapin."
   ],
   "cell_type": "markdown",
   "metadata": {}
  },
  {
   "cell_type": "code",
   "execution_count": 23,
   "metadata": {},
   "outputs": [
    {
     "output_type": "stream",
     "name": "stdout",
     "text": [
      "            \n           **\n          ****\n         ******\n        ********\n       **********\n      ************\n     **************\n    ****************\n   ******************\n  ********************\n **********************\n"
     ]
    }
   ],
   "source": [
    "def sapin(largeur):\n",
    "    for i in range(0,largeur):\n",
    "        print(\" \"*(largeur-i)+str(\"*\"*i)+str(i*\"*\"))\n",
    "# Je passe en str pour pouvoir mettre des + dans mon print (car les , mettent des espaces)\n",
    "sapin(12)"
   ]
  },
  {
   "source": [
    "## Exercice 2\n"
   ],
   "cell_type": "markdown",
   "metadata": {}
  },
  {
   "cell_type": "code",
   "execution_count": 189,
   "metadata": {},
   "outputs": [],
   "source": [
    "def demanderNb():\n",
    "    try :\n",
    "        nb = int(input(\"Un nombre entier comprit entre 0 et 10 \"))\n",
    "    except :\n",
    "        print(\"entrez un nombre entier ! on a choisi pour vous 5\")\n",
    "        nb = 5\n",
    "    if(nb<0):\n",
    "        print(\"erreur, nombre negatif\")\n",
    "    if(nb>10):\n",
    "        print(\"erreur, nombre superieur à 10\")\n",
    "    return int(nb)\n",
    "\n",
    "def update_comptage():\n",
    "    if(int(nb) in comptage):\n",
    "        comptage[nb] += 1\n",
    "    else :\n",
    "        comptage[nb] = 1\n",
    "\n",
    "def ecrire_comptage() :\n",
    "    my_new_file = \"comptage_nb.txt\"\n",
    "    with open(\"comptage_nb.txt\", \"w\") as f: \n",
    "        for i in range(0,11):\n",
    "            try :\n",
    "                f.write(\"le nombre \"+str(i) + \" a été entré \" + str(comptage[i]) +\" fois\\n\")\n",
    "            except :\n",
    "                f.write(\"\")\n",
    "\n",
    "def lecture_comptage() :\n",
    "    with open(\"comptage_nb.txt\", \"r\") as f:\n",
    "        for line in f : \n",
    "            print(line)\n"
   ]
  },
  {
   "cell_type": "code",
   "execution_count": 178,
   "metadata": {},
   "outputs": [],
   "source": [
    "comptage = {}"
   ]
  },
  {
   "cell_type": "code",
   "execution_count": 190,
   "metadata": {},
   "outputs": [
    {
     "output_type": "stream",
     "name": "stdout",
     "text": [
      "le nombre 0 a été entré 1 fois\n\nle nombre 2 a été entré 2 fois\n\nle nombre 3 a été entré 2 fois\n\nle nombre 6 a été entré 2 fois\n\nle nombre 10 a été entré 3 fois\n\n"
     ]
    }
   ],
   "source": [
    "nb = demanderNb()\n",
    "update_comptage()\n",
    "ecrire_comptage()\n",
    "lecture_comptage()"
   ]
  },
  {
   "source": [
    "## Exercice 3\n",
    "\n",
    "### Ecrire la fonction factorielle."
   ],
   "cell_type": "markdown",
   "metadata": {}
  },
  {
   "cell_type": "code",
   "execution_count": 52,
   "metadata": {},
   "outputs": [
    {
     "output_type": "stream",
     "name": "stdout",
     "text": [
      "0! = 1\n1! = 1\n2! = 2\n3! = 6\n4! = 24\n5! = 120\n10! = 3628800\n"
     ]
    }
   ],
   "source": [
    "def factorielle(nb):\n",
    "    prod = 1\n",
    "    for i in range(1,nb+1):\n",
    "        prod *= i \n",
    "    print(str(nb)+\"!\"+\" = \" + str(prod))\n",
    "\n",
    "factorielle(0)\n",
    "factorielle(1)\n",
    "factorielle(2)\n",
    "factorielle(3)\n",
    "factorielle(4)\n",
    "factorielle(5)\n",
    "factorielle(10)"
   ]
  },
  {
   "source": [
    "## Exercice 4\n",
    "\n",
    "### Ecrire une fonction find qui permet de trouver le plus petit élément d'une liste.\n",
    "\n",
    "Données : 137, 323, 88, 595, 459, 419, 141, 760, 364, 832, 818, 848, 81, 45, 521, 70, 518, 777, 890, 728, 592, 607, 274, 646, 289, 843, 619, 963, 741, 489, 415, 457, 410, 140, 807, 401, 327, 752, 585, 791, 442, 112, 403,\n",
    "958, 93, 96, 89, 415, 331, 671, 878, 450, 152, 620, 102, 780, 287, 150, 67, 831, 329, 643, 862, 336, 90, 446, 637, 465, 196, 312, 926, 545, 601, 663, 29, 173, 746, 210, 654, 199, 697, 274, 749, 304, 157, 663, 225,\n",
    "90, 976, 948, 661, 553, 673, 143, 620, 517, 497, 300, 446, 590, 97, 648, 721, 744, 577, 691, 282, 486, 401, 497, 715, 637, 201, 565, 175, 576, 588, 994, 211, 76, 436, 129, 674, 457, 813, 613, 414, 543, 514, 684,\n",
    "766, 865, 68, 438, 486, 43, 642, 168, 72, 502, 846, 710, 262, 743, 329, 549, 536, 222, 556, 969, 391, 920, 762, 142, 930, 613, 278, 220, 953, 286, 69, 543, 205, 257, 912, 979, 892, 367, 918, 967, 994, 713, 745,\n",
    "818, 907, 871, 380, 840, 812, 673, 787, 726, 199, 674, 984, 237, 993, 719, 795, 119, 251, 118, 110, 521, 732, 592, 518, 443, 520, 755\n"
   ],
   "cell_type": "markdown",
   "metadata": {}
  },
  {
   "cell_type": "code",
   "execution_count": 61,
   "metadata": {},
   "outputs": [
    {
     "output_type": "stream",
     "name": "stdout",
     "text": [
      "le minimum est : 29 en : 74 / 199\n"
     ]
    }
   ],
   "source": [
    "liste = [137, 323, 88, 595, 459, 419, 141, 760, 364, 832, 818, 848, 81, 45, 521, 70, 518, 777, 890, 728, 592, 607, 274, 646, 289, 843, 619, 963, 741, 489, 415, 457, 410, 140, 807, 401, 327, 752, 585, 791, 442, 112, 403, 958, 93, 96, 89, 415, 331, 671, 878, 450, 152, 620, 102, 780, 287, 150, 67, 831, 329, 643, 862, 336, 90, 446, 637, 465, 196, 312, 926, 545, 601, 663, 29, 173, 746, 210, 654, 199, 697, 274, 749, 304, 157, 663, 225, 90, 976, 948, 661, 553, 673, 143, 620, 517, 497, 300, 446, 590, 97, 648, 721, 744, 577, 691, 282, 486, 401, 497, 715, 637, 201, 565, 175, 576, 588, 994, 211, 76, 436, 129, 674, 457, 813, 613, 414, 543, 514, 684, 766, 865, 68, 438, 486, 43, 642, 168, 72, 502, 846, 710, 262, 743, 329, 549, 536, 222, 556, 969, 391, 920, 762, 142, 930, 613, 278, 220, 953, 286, 69, 543, 205, 257, 912, 979, 892, 367, 918, 967, 994, 713, 745, 818, 907, 871, 380, 840, 812, 673, 787, 726, 199, 674, 984, 237, 993, 719, 795, 119, 251, 118, 110, 521, 732, 592, 518, 443, 520, 755]\n",
    "\n",
    "def find(tab):\n",
    "    id = 0\n",
    "    pointeur = 0\n",
    "    for i in range(0, len(tab)):\n",
    "        if(tab[pointeur]<tab[id]):\n",
    "            id = pointeur\n",
    "            pointeur += 1\n",
    "        else:\n",
    "            pointeur+=1\n",
    "    print(\"le minimum est :\", tab[id], \"en :\", id, \"/\", len(tab)-1)\n",
    "\n",
    "find(liste)"
   ]
  },
  {
   "source": [
    "# Fin TD6 - Fonctions"
   ],
   "cell_type": "markdown",
   "metadata": {}
  }
 ]
}