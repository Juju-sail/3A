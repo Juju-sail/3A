{
 "metadata": {
  "language_info": {
   "codemirror_mode": {
    "name": "ipython",
    "version": 3
   },
   "file_extension": ".py",
   "mimetype": "text/x-python",
   "name": "python",
   "nbconvert_exporter": "python",
   "pygments_lexer": "ipython3",
   "version": "3.9.1-final"
  },
  "orig_nbformat": 2,
  "kernelspec": {
   "name": "python3",
   "display_name": "Python 3.9.1 64-bit",
   "metadata": {
    "interpreter": {
     "hash": "553fde94cf21fea3c15f46ca3b92f17d4d8765a9f325c0781d136ffdb5e73663"
    }
   }
  }
 },
 "nbformat": 4,
 "nbformat_minor": 2,
 "cells": [
  {
   "source": [
    "# TD6 - Modules\n",
    "## Exercice 1\n",
    "\n",
    "Installer les paquets suivants: numpy, scipy, matplotlib, pygame, tkinter, BeautifulSoup4\n",
    "### Verifier la bonne installation des paquets\n",
    "Importer de nouveaux paquets"
   ],
   "cell_type": "markdown",
   "metadata": {}
  },
  {
   "source": [
    "Pour installer : utilisation de cmd, avec commande : pip install nom_module\n",
    "\n",
    "Photos de l'installation réussie dans le dossier Installation_moduls\n",
    "\n",
    "Seul tkinter me pose problemes"
   ],
   "cell_type": "markdown",
   "metadata": {}
  },
  {
   "source": [
    "## Exercice 2\n",
    "### Calculer la surface d'un disque\n",
    "Ecrire une fonction qui calcule la surface d'un disque.\n",
    "\n",
    "Tester votre fonction pour deux disques de tailles différentes.\n",
    "\n",
    "Ajouter des conditions pour vérifier que l'utilisateur entre bien des nombres."
   ],
   "cell_type": "markdown",
   "metadata": {}
  },
  {
   "cell_type": "code",
   "execution_count": 14,
   "metadata": {},
   "outputs": [
    {
     "output_type": "stream",
     "name": "stdout",
     "text": [
      "un disque de rayon 3 m, a pour surface : 28.27 m²\n"
     ]
    }
   ],
   "source": [
    "from math import pi\n",
    "def surf_disq(r):\n",
    "    s = pi * (r**2)\n",
    "    print(\"un disque de rayon\", r, \"m, a pour surface :\", round(s, 2), \"m²\")\n",
    "\n",
    "surf_disq(3)"
   ]
  },
  {
   "source": [
    "### Ecrire une fonction qui calcule l'hypoténuse d'un triange rectangle"
   ],
   "cell_type": "markdown",
   "metadata": {}
  },
  {
   "cell_type": "code",
   "execution_count": 17,
   "metadata": {},
   "outputs": [
    {
     "output_type": "stream",
     "name": "stdout",
     "text": [
      "un triangle rectange dont l'un des coté mesure 3 cm, et l'autre 5 cm, a pour hypothénuse : 5.83 cm\n"
     ]
    }
   ],
   "source": [
    "from math import sqrt\n",
    "def triangle_rect(a, b):\n",
    "    h = math.sqrt(a**2 + b**2)\n",
    "    print(\"un triangle rectange dont l'un des coté mesure\", a, \"cm, et l'autre\", b, \"cm, a pour hypothénuse :\", round(h, 2), \"cm\")\n",
    "triangle_rect(3, 5)"
   ]
  },
  {
   "source": [
    "### Ecrire une fonction qui calcule la distribution f(x) = 1/√(2πσ) . exp((−(x−µ)2)/(2σ2))\n",
    "\n",
    "Tester pour µ = 0 et σ2 = 5\n",
    "\n",
    "Mettre des arguments de la fonction par défaut"
   ],
   "cell_type": "markdown",
   "metadata": {}
  },
  {
   "cell_type": "code",
   "execution_count": 27,
   "metadata": {},
   "outputs": [
    {
     "output_type": "stream",
     "name": "stdout",
     "text": [
      "pour mu = 0 , sigma² = 5 et x = 3 , f(x) = 0.1085\n"
     ]
    }
   ],
   "source": [
    "from math import sqrt\n",
    "from math import pi\n",
    "from math import exp\n",
    "\n",
    "def distribution(x, mu = 0, sigma = 5): # parametre mu, sigma² et x\n",
    "    f = (1/sqrt(2*pi*sqrt(sigma))) * exp((-(x-mu)**2)/(2*sigma))\n",
    "    print(\"pour mu =\", mu, \", sigma² =\", sigma, \"et x =\", x, \", f(x) =\", round(f,4))\n",
    "\n",
    "\n",
    "distribution(3)"
   ]
  },
  {
   "source": [
    "## Exercice 3\n",
    "Installer le paquet pyfiglet.\n",
    "\n",
    "Essayer de comprendre à quoi sert ce module?\n",
    "\n",
    "Tester sur quelques exemples de votre choix"
   ],
   "cell_type": "markdown",
   "metadata": {}
  },
  {
   "cell_type": "code",
   "execution_count": 43,
   "metadata": {
    "tags": []
   },
   "outputs": [
    {
     "output_type": "stream",
     "name": "stdout",
     "text": [
      "     _       _ _      _   _       \n    | |_   _| (_) ___| |_| |_ ___ \n _  | | | | | | |/ _ \\ __| __/ _ \\\n| |_| | |_| | | |  __/ |_| ||  __/\n \\___/ \\__,_|_|_|\\___|\\__|\\__\\___|\n                                  \n\n"
     ]
    }
   ],
   "source": [
    "import pyfiglet\n",
    "\n",
    "message = input(\"Quel message voulez vous taguez\")\n",
    "message_tag = pyfiglet.figlet_format(message)\n",
    "print(message_tag)\n"
   ]
  },
  {
   "source": [
    "## Exercice 4 \n",
    "### Tester la fonction pydoc pour le module matplotlib et numpy\n",
    "Comment importe t'on matplotlib ?\n",
    "\n",
    "Avec numpy, quelle fonction permet d'obtenir des informations à partir d'un mot clé ?"
   ],
   "cell_type": "markdown",
   "metadata": {}
  },
  {
   "cell_type": "code",
   "execution_count": 52,
   "metadata": {
    "tags": []
   },
   "outputs": [
    {
     "output_type": "stream",
     "name": "stdout",
     "text": [
      "Search results for 'info'\n-------------------------\nnumpy.info\n    Get help information for a function, class, or module.\nnumpy.finfo\n    finfo(dtype)\nnumpy.iinfo\n    iinfo(type)\nnumpy.ufunc\n    Functions that operate element by element on whole arrays.\nnumpy.RankWarning\n    Issued by `polyfit` when the Vandermonde matrix is rank deficient.\nnumpy.show_config\n    Show libraries in the system on which NumPy was built.\nnumpy.datetime_data\n    Get information about the step size of a date or time type.\nnumpy.busdaycalendar\n    A business day calendar object that efficiently stores information\nnumpy.memmap.flush\n    Write any changes in the array to the file on disk.\nnumpy.nditer.debug_print\n    debug_print()\nnumpy.distutils.LibraryInfo\n    Object containing build information about a library.\nnumpy.distutils.read_config\n    Return library info for a package from its configuration file.\nnumpy.distutils.misc_util.get_info\n    Return an info dict for a given C library.\nnumpy.distutils.system_info.wx_info\n    get_info() is the only public method. Don't use others.\nnumpy.f2py.capi_maps.sign2map\n    varname,ctype,atype\nnumpy.distutils.system_info.amd_info\n    get_info() is the only public method. Don't use others.\nnumpy.distutils.system_info.gdk_info\n    get_info() is the only public method. Don't use others.\nnumpy.distutils.system_info.mkl_info\n    get_info() is the only public method. Don't use others.\nnumpy.distutils.system_info.x11_info\n    get_info() is the only public method. Don't use others.\nnumpy.distutils.system_info.xft_info\n    get_info() is the only public method. Don't use others.\nnumpy.distutils.__config__.show\n    Show libraries in the system on which NumPy was built.\nnumpy.distutils.system_info.agg2_info\n    get_info() is the only public method. Don't use others.\nnumpy.distutils.system_info.blas_info\n    get_info() is the only public method. Don't use others.\nnumpy.distutils.system_info.blis_info\n    get_info() is the only public method. Don't use others.\nnumpy.distutils.system_info.f2py_info\n    get_info() is the only public method. Don't use others.\nnumpy.distutils.system_info.fftw_info\n    get_info() is the only public method. Don't use others.\nnumpy.distutils.misc_util.get_pkg_info\n    Return library info for the given package.\nnumpy.distutils.system_info.atlas_info\n    get_info() is the only public method. Don't use others.\nnumpy.distutils.system_info.dfftw_info\n    get_info() is the only public method. Don't use others.\nnumpy.distutils.system_info.fftw2_info\n    get_info() is the only public method. Don't use others.\nnumpy.distutils.system_info.fftw3_info\n    get_info() is the only public method. Don't use others.\nnumpy.distutils.system_info.gdk_2_info\n    get_info() is the only public method. Don't use others.\nnumpy.distutils.system_info.numpy_info\n    get_info() is the only public method. Don't use others.\nnumpy.distutils.system_info.sfftw_info\n    get_info() is the only public method. Don't use others.\nnumpy.distutils.system_info._numpy_info\n    get_info() is the only public method. Don't use others.\nnumpy.distutils.system_info.djbfft_info\n    get_info() is the only public method. Don't use others.\nnumpy.distutils.system_info.gtkp_2_info\n    get_info() is the only public method. Don't use others.\nnumpy.distutils.system_info.lapack_info\n    get_info() is the only public method. Don't use others.\nnumpy.distutils.system_info.system_info\n    get_info() is the only public method. Don't use others.\nnumpy.distutils.system_info.Numeric_info\n    get_info() is the only public method. Don't use others.\nnumpy.distutils.system_info.fft_opt_info\n    get_info() is the only public method. Don't use others.\nnumpy.distutils.system_info.numerix_info\n    get_info() is the only public method. Don't use others.\nnumpy.distutils.system_info.umfpack_info\n    get_info() is the only public method. Don't use others.\nnumpy.distutils.system_info.blas_mkl_info\n    get_info() is the only public method. Don't use others.\nnumpy.distutils.system_info.blas_opt_info\n    get_info() is the only public method. Don't use others.\nnumpy.distutils.system_info.blas_src_info\n    get_info() is the only public method. Don't use others.\nnumpy.distutils.system_info.numarray_info\n    get_info() is the only public method. Don't use others.\nnumpy.distutils.system_info.openblas_info\n    get_info() is the only public method. Don't use others.\nnumpy.distutils.system_info.freetype2_info\n    get_info() is the only public method. Don't use others.\nnumpy.distutils.system_info.gdk_x11_2_info\n    get_info() is the only public method. Don't use others.\nnumpy.distutils.system_info.accelerate_info\n    get_info() is the only public method. Don't use others.\nnumpy.distutils.system_info.atlas_3_10_info\n    get_info() is the only public method. Don't use others.\nnumpy.distutils.system_info.atlas_blas_info\n    get_info() is the only public method. Don't use others.\nnumpy.fv\n    Compute the future value.\nnumpy.distutils.system_info.gtkp_x11_2_info\n    get_info() is the only public method. Don't use others.\nnumpy.distutils.system_info.lapack_mkl_info\n    get_info() is the only public method. Don't use others.\nnumpy.distutils.system_info.lapack_opt_info\n    get_info() is the only public method. Don't use others.\nnumpy.distutils.system_info.lapack_src_info\n    get_info() is the only public method. Don't use others.\nnumpy.pv\n    Compute the present value.\nnumpy.distutils.system_info._pkg_config_info\n    get_info() is the only public method. Don't use others.\nnumpy.distutils.system_info.blas64__opt_info\n    get_info() is the only public method. Don't use others.\nnumpy.distutils.system_info.openblas64__info\n    get_info() is the only public method. Don't use others.\nnumpy.pmt\n    Compute the payment against loan principal plus interest.\nnumpy.distutils.system_info.boost_python_info\n    get_info() is the only public method. Don't use others.\nnumpy.distutils.system_info.fftw_threads_info\n    get_info() is the only public method. Don't use others.\nnumpy.distutils.system_info.gdk_pixbuf_2_info\n    get_info() is the only public method. Don't use others.\nnumpy.distutils.system_info.lapack_atlas_info\n    get_info() is the only public method. Don't use others.\nnumpy.poly\n    Find the coefficients of a polynomial with the given sequence of roots.\nnumpy.rate\n    Compute the rate of interest per period.\nnumpy.distutils.system_info.atlas_threads_info\n    get_info() is the only public method. Don't use others.\nnumpy.distutils.system_info.dfftw_threads_info\n    get_info() is the only public method. Don't use others.\nnumpy.distutils.system_info.lapack64__opt_info\n    get_info() is the only public method. Don't use others.\nnumpy.distutils.system_info.sfftw_threads_info\n    get_info() is the only public method. Don't use others.\nnumpy.MachAr\n    Diagnosing machine parameters.\nnumpy.distutils.system_info.blas_ilp64_opt_info\n    get_info() is the only public method. Don't use others.\nnumpy.distutils.system_info.openblas_ilp64_info\n    get_info() is the only public method. Don't use others.\nnumpy.source\n    Print or write to a file the source code for a NumPy object.\nnumpy.ediff1d\n    The differences between consecutive elements of an array.\nnumpy.distutils.system_info.atlas_3_10_blas_info\n    get_info() is the only public method. Don't use others.\nnumpy.distutils.system_info.openblas_lapack_info\n    get_info() is the only public method. Don't use others.\nnumpy.lookfor\n    Do a keyword search on docstrings.\nnumpy.ndarray\n    ndarray(shape, dtype=float, buffer=None, offset=0,\nnumpy.polyfit\n    Least squares polynomial fit.\nnumpy.require\n    Return an ndarray of the provided type that satisfies requirements.\nnumpy.spacing\n    Return the distance between x and the nearest adjacent number.\nnumpy.errstate\n    errstate(**kwargs)\nnumpy.fromfile\n    Construct an array from data in a text or binary file.\nnumpy.distutils.system_info.lapack_ilp64_opt_info\n    get_info() is the only public method. Don't use others.\nnumpy.distutils.system_info.openblas_clapack_info\n    get_info() is the only public method. Don't use others.\nnumpy.array_str\n    Return a string representation of the data in an array.\nnumpy.distutils.misc_util.generate_config_py\n    Generate config.py file containing system_info information\nnumpy.distutils.system_info.gdk_pixbuf_xlib_2_info\n    get_info() is the only public method. Don't use others.\nnumpy.geterrobj\n    geterrobj()\nnumpy.distutils.system_info.lapack_atlas_3_10_info\n    get_info() is the only public method. Don't use others.\nnumpy.nextafter\n    Return the next floating-point value after x1 towards x2, element-wise.\nnumpy.seterrobj\n    seterrobj(errobj)\nnumpy.distutils.system_info.atlas_3_10_threads_info\n    get_info() is the only public method. Don't use others.\nnumpy.distutils.system_info.atlas_blas_threads_info\n    get_info() is the only public method. Don't use others.\nnumpy.distutils.system_info.openblas64__lapack_info\n    get_info() is the only public method. Don't use others.\nnumpy.core._internal._ctypes.get_strides\n    (c_intp*self.ndim): A ctypes array of length self.ndim where\nnumpy.common_type\n    Return a scalar type which is common to the input arrays.\nnumpy.einsum_path\n    Evaluates the lowest cost contraction order for an einsum expression by\nnumpy.distutils.system_info.blas_ilp64_plain_opt_info\n    get_info() is the only public method. Don't use others.\nnumpy.distutils.system_info.lapack_atlas_threads_info\n    get_info() is the only public method. Don't use others.\nnumpy.fft.hfft\n    Compute the FFT of a signal that has Hermitian symmetry, i.e., a real\nnumpy.distutils.system_info.openblas_ilp64_lapack_info\n    get_info() is the only public method. Don't use others.\nnumpy.real_if_close\n    If input is complex with all imaginary parts close to zero, return\nnumpy.fft.irfft\n    Compute the inverse of the n-point DFT for real input.\nnumpy.asfortranarray\n    Return an array (ndim >= 1) laid out in Fortran order in memory.\nnumpy.distutils.misc_util.Configuration.get_info\n    Get resources information.\nnumpy.distutils.system_info.lapack_ilp64_plain_opt_info\n    get_info() is the only public method. Don't use others.\nnumpy.linalg.qr\n    Compute the qr factorization of a matrix.\nnumpy.char.decode\n    Calls `str.decode` element-wise.\nnumpy.char.encode\n    Calls `str.encode` element-wise.\nnumpy.fft.irfftn\n    Compute the inverse of the N-dimensional FFT of real input.\nnumpy.distutils.system_info.atlas_3_10_blas_threads_info\n    get_info() is the only public method. Don't use others.\nnumpy.ma.polyfit\n    Least squares polynomial fit.\nnumpy.distutils.fcompiler.FCompiler.customize\n    Customize Fortran compiler.\nnumpy.set_printoptions\n    Set printing options.\nnumpy.ascontiguousarray\n    Return a contiguous array (ndim >= 1) in memory (C order).\nnumpy.distutils.system_info.lapack_atlas_3_10_threads_info\n    get_info() is the only public method. Don't use others.\nnumpy.distutils.system_info.Numeric_info.check_libs\n    If static or shared libraries are available then return\nnumpy.f2py.run_main\n    Equivalent to running::\nnumpy.datetime_as_string\n    Convert an array of datetimes into an array of strings.\nnumpy.chararray.item\n    a.item(*args)\nnumpy.distutils.system_info.Numeric_info.check_libs2\n    If static or shared libraries are available then return\nnumpy.chararray.tofile\n    Write array to a file as text or binary (default).\nnumpy.ma.tests.test_subclassing.SubMaskedArray\n    Pure subclass of MaskedArray, keeping some info on subclass.\nnumpy.random.MT19937\n    Container for the Mersenne Twister pseudo-random number generator.\nnumpy.chararray.setflags\n    Set array flags WRITEABLE, ALIGNED, (WRITEBACKIFCOPY and UPDATEIFCOPY),\nnumpy.distutils.system_info.Numeric_info.calc_extra_info\n    Updates the information in the current information with\nnumpy.distutils.fcompiler.FCompiler.get_flags_debug\n    List of compiler flags to compile with debugging information.\nnumpy.ctypeslib.ndpointer\n    Array-checking restype/argtypes.\nnumpy.linalg.matrix_rank\n    Return matrix rank of array using SVD method\nnumpy.distutils.misc_util.Configuration.make_config_py\n    Generate package __config__.py file containing system_info\nnumpy.compat.npy_load_module\n    Load a module.\nnumpy.core.setup_common.pyod\n    Python implementation of the od UNIX utility (od -b, more exactly).\nnumpy.testing._gen_alignment_data\n    generator producing data with different alignment and offsets\nnumpy.ma.MaskedArray.toflex\n    Transforms a masked array into a flexible-type array.\nnumpy.ma.MaskedArray.tobytes\n    Return the array data as a string containing the raw bytes in the array.\nnumpy.random.MT19937.jumped\n    Returns a new bit generator with the state jumped\nnumpy.distutils.system_info.libpaths\n    Return a list of library paths valid on 32 or 64 bit systems.\nnumpy.polynomial.Hermite.fit\n    Least squares fit to data.\nnumpy.polynomial.Hermite._fit\n    Least squares fit of Hermite series to data.\nnumpy.polynomial.Hermite._int\n    Integrate a Hermite series.\nnumpy.polynomial.HermiteE.fit\n    Least squares fit to data.\nnumpy.polynomial.Laguerre.fit\n    Least squares fit to data.\nnumpy.polynomial.Legendre.fit\n    Least squares fit to data.\nnumpy.random.Generator.gumbel\n    Draw samples from a Gumbel distribution.\nnumpy.distutils.fcompiler.g95.G95FCompiler.get_flags_debug\n    List of compiler flags to compile with debugging information.\nnumpy.polynomial.Chebyshev.fit\n    Least squares fit to data.\nnumpy.polynomial.HermiteE._fit\n    Least squares fit of Hermite series to data.\nnumpy.polynomial.HermiteE._int\n    Integrate a Hermite_e series.\nnumpy.distutils.fcompiler.ibm.IBMFCompiler.get_flags_debug\n    List of compiler flags to compile with debugging information.\nnumpy.polynomial.Laguerre._fit\n    Least squares fit of Laguerre series to data.\nnumpy.polynomial.Laguerre._int\n    Integrate a Laguerre series.\nnumpy.polynomial.Legendre._fit\n    Least squares fit of Legendre series to data.\nnumpy.polynomial.Legendre._int\n    Integrate a Legendre series.\nnumpy.distutils.fcompiler.nag.NAGFCompiler.get_flags_debug\n    List of compiler flags to compile with debugging information.\nnumpy.polynomial.Chebyshev._fit\n    Least squares fit of Chebyshev series to data.\nnumpy.polynomial.Chebyshev._int\n    Integrate a Chebyshev series.\nnumpy.polynomial.Polynomial.fit\n    Least squares fit to data.\nnumpy.distutils.fcompiler.nv.NVHPCFCompiler.get_flags_debug\n    List of compiler flags to compile with debugging information.\nnumpy.random.RandomState.gumbel\n    Draw samples from a Gumbel distribution.\nnumpy.distutils.fcompiler.gnu.Gnu95FCompiler.get_flags_debug\n    List of compiler flags to compile with debugging information.\nnumpy.polynomial.Polynomial._fit\n    Least-squares fit of a polynomial to data.\nnumpy.polynomial.Polynomial._int\n    Integrate a polynomial.\nnumpy.distutils.fcompiler.nag.NAGFORCompiler.get_flags_debug\n    List of compiler flags to compile with debugging information.\nnumpy.distutils.fcompiler.pg.PGroupFCompiler.get_flags_debug\n    List of compiler flags to compile with debugging information.\nnumpy.random.Generator.dirichlet\n    Draw samples from the Dirichlet distribution.\nnumpy.random.RandomState.tomaxint\n    Return a sample of uniformly distributed random integers in the interval\nnumpy.distutils.fcompiler.lahey.LaheyFCompiler.get_flags_debug\n    List of compiler flags to compile with debugging information.\nnumpy.polynomial.polyutils.trimseq\n    Remove small Poly series coefficients.\nnumpy.random.RandomState.dirichlet\n    Draw samples from the Dirichlet distribution.\nnumpy.random.RandomState.set_state\n    set_state(state)\nnumpy.distutils.fcompiler.compaq.CompaqFCompiler.get_flags_debug\n    List of compiler flags to compile with debugging information.\nnumpy.distutils.fcompiler.pg.PGroupFlangCompiler.get_flags_debug\n    List of compiler flags to compile with debugging information.\nnumpy.testing.assert_array_almost_equal_nulp\n    Compare two arrays relatively to their spacing.\nnumpy.testing._private.parameterized.QuietOrderedDict.__reduce__\n    Return state information for pickling\nnumpy.distutils.numpy_distribution.NumpyDistribution.handle_display_options\n    If there were any non-global \"display-only\" options\nnumpy.distutils.fcompiler.pathf95.PathScaleFCompiler.get_flags_debug\n    List of compiler flags to compile with debugging information.\nnumpy.distutils.fcompiler.compaq.CompaqVisualFCompiler.get_flags_debug\n    List of compiler flags to compile with debugging information.\nnumpy.core._multiarray_umath.datetime_as_string\n    Convert an array of datetimes into an array of strings.\nnumpy.distutils.fcompiler.intel.IntelEM64VisualFCompiler.get_flags_debug\n    List of compiler flags to compile with debugging information.\nnumpy.core._multiarray_umath._set_madvise_hugepage\n    _set_madvise_hugepage(enabled: bool) -> bool\nnumpy.ma.tests.test_subclassing.SubArray\n    ndarray(shape, dtype=float, buffer=None, offset=0,\nnumpy.polynomial._polybase.ABCPolyBase.fit\n    Least squares fit to data.\nnumpy.distutils.system_info.blas_info.get_cblas_libs\n    Check whether we can link with CBLAS interface\nnumpy.lib.tests.test_stride_tricks.SimpleSubClass\n    ndarray(shape, dtype=float, buffer=None, offset=0,\nnumpy.distutils.misc_util.Configuration.add_library\n    Add library to configuration.\nnumpy.distutils.misc_util.Configuration.get_version\n    Try to get version string of a package.\nnumpy.core.tests.test_function_base.PhysicalQuantity2\n    ndarray(shape, dtype=float, buffer=None, offset=0,\nnumpy.distutils.fcompiler.FCompiler.create_static_lib\n    Link a bunch of stuff together to create a static library file.\nnumpy.distutils.misc_util.Configuration.add_extension\n    Add extension to configuration.\nnumpy.ma.tests.test_subclassing.ComplicatedSubArray\n    ndarray(shape, dtype=float, buffer=None, offset=0,\nnumpy.lib.tests.test_stride_tricks.VerySimpleSubClass\n    ndarray(shape, dtype=float, buffer=None, offset=0,\nnumpy.distutils.misc_util.Configuration.add_npy_pkg_config\n    Generate and install a npy-pkg config file from a template.\nnumpy.distutils.misc_util.Configuration.add_installed_library\n    Similar to add_library, but the specified library is installed.\nnumpy.distutils.intelccompiler.IntelCCompilerW.create_static_lib\n    Link a bunch of stuff together to create a static library file.\nnumpy.distutils.command.build_clib.build_clib.check_library_list\n    Ensure that the list of libraries is valid.\nnumpy.distutils.command.build_ext.build_ext.check_extensions_list\n    Ensure that the list of extensions (presumably provided as a\nnumpy.distutils.command.develop.develop.create_index.fetch_distribution\n    Obtain a distribution suitable for fulfilling `requirement`None\n"
     ]
    }
   ],
   "source": [
    "import matplotlib\n",
    "import numpy\n",
    "\n",
    "print(numpy.lookfor(\"info\")) #numpy.lookfor(\"motclé\") -> info sur fonctions à utiliser contenant ce mot clé\n"
   ]
  },
  {
   "source": [
    "## Exercice 5\n",
    "### Créer une liste de nombres aleatoires.\n",
    "La taille de cette liste peut être écrite dans une variable ou donnée par l'utilisateur.\n",
    "\n",
    "Aide: regarder le paquet random ou numpy. N'hésitez pas à chercher dans votre moteur de recherche préféré."
   ],
   "cell_type": "markdown",
   "metadata": {}
  },
  {
   "cell_type": "code",
   "execution_count": 32,
   "metadata": {},
   "outputs": [
    {
     "output_type": "stream",
     "name": "stdout",
     "text": [
      "[-0.06583653  0.33102864  1.88830583 -0.60527341 -0.14608214  1.70222169\n -0.25332546 -1.04525099  0.32775739  1.93987392]\n"
     ]
    }
   ],
   "source": [
    "import numpy\n",
    "taille = int(input(\"taille de la liste souhaitée\"))\n",
    "print(numpy.random.standard_normal(taille))"
   ]
  },
  {
   "source": [
    "# Fin TD6 - Modules"
   ],
   "cell_type": "markdown",
   "metadata": {}
  }
 ]
}