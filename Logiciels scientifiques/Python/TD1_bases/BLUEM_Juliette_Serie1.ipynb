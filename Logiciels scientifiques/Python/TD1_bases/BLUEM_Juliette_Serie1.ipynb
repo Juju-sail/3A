{
 "metadata": {
  "language_info": {
   "codemirror_mode": {
    "name": "ipython",
    "version": 3
   },
   "file_extension": ".py",
   "mimetype": "text/x-python",
   "name": "python",
   "nbconvert_exporter": "python",
   "pygments_lexer": "ipython3",
   "version": "3.9.1-final"
  },
  "orig_nbformat": 2,
  "kernelspec": {
   "name": "python3",
   "display_name": "Python 3.9.1 64-bit",
   "metadata": {
    "interpreter": {
     "hash": "553fde94cf21fea3c15f46ca3b92f17d4d8765a9f325c0781d136ffdb5e73663"
    }
   }
  }
 },
 "nbformat": 4,
 "nbformat_minor": 2,
 "cells": [
  {
   "source": [
    "# TD1\n",
    "\n",
    "## Exercice 1\n",
    "\n",
    "### Calculer les expressions suivantes à l'aide de Python"
   ],
   "cell_type": "markdown",
   "metadata": {}
  },
  {
   "cell_type": "code",
   "execution_count": 16,
   "metadata": {},
   "outputs": [
    {
     "output_type": "execute_result",
     "data": {
      "text/plain": [
       "1009408.9678769798"
      ]
     },
     "metadata": {},
     "execution_count": 16
    }
   ],
   "source": [
    "5.63 ** 8"
   ]
  },
  {
   "cell_type": "code",
   "execution_count": 21,
   "metadata": {},
   "outputs": [
    {
     "output_type": "execute_result",
     "data": {
      "text/plain": [
       "812.25"
      ]
     },
     "metadata": {},
     "execution_count": 21
    }
   ],
   "source": [
    "(5+23.5) ** 2"
   ]
  },
  {
   "cell_type": "code",
   "execution_count": 18,
   "metadata": {},
   "outputs": [
    {
     "output_type": "execute_result",
     "data": {
      "text/plain": [
       "-12054.252307840003"
      ]
     },
     "metadata": {},
     "execution_count": 18
    }
   ],
   "source": [
    "(1+3) * (5-36) * (3.14 ** 4)"
   ]
  },
  {
   "source": [
    "## Exercice 2\n",
    "\n",
    "### Calculer le volume d'une sphère de rayon 0.5 m et l'assigner à une variable. Afficher la valeur de la variable.\n"
   ],
   "cell_type": "markdown",
   "metadata": {}
  },
  {
   "cell_type": "code",
   "execution_count": 24,
   "metadata": {},
   "outputs": [
    {
     "output_type": "execute_result",
     "data": {
      "text/plain": [
       "0.5235987755982988"
      ]
     },
     "metadata": {},
     "execution_count": 24
    }
   ],
   "source": [
    "from math import pi\n",
    "(4 / 3) * pi * 0.5 ** 3\n"
   ]
  },
  {
   "source": [
    "## Exercice 3\n",
    "\n",
    "### Ecrire dans une variable un chiffre compris entre 1 et 100"
   ],
   "cell_type": "markdown",
   "metadata": {}
  },
  {
   "cell_type": "code",
   "execution_count": 40,
   "metadata": {},
   "outputs": [
    {
     "output_type": "stream",
     "name": "stdout",
     "text": [
      "64\n"
     ]
    }
   ],
   "source": [
    "from random import *\n",
    "nb_aleat = int(random() * 100)\n",
    "print(nb_aleat)"
   ]
  },
  {
   "source": [
    "### Demander à l'utilisateur un chiffre compris entre 1 et 100 et l'affecter à une nouvelle variable"
   ],
   "cell_type": "markdown",
   "metadata": {}
  },
  {
   "cell_type": "code",
   "execution_count": 43,
   "metadata": {},
   "outputs": [
    {
     "output_type": "stream",
     "name": "stdout",
     "text": [
      "20\n"
     ]
    }
   ],
   "source": [
    "your_nb = int(input(\"Chosissez un nombre entre 0 et 100\"))\n",
    "print(your_nb)"
   ]
  },
  {
   "source": [
    "### Ecrire \" le chiffre à déterminer était \" valeur de votre variable \". Vous avez entré la valeur \""
   ],
   "cell_type": "markdown",
   "metadata": {}
  },
  {
   "cell_type": "code",
   "execution_count": 48,
   "metadata": {},
   "outputs": [
    {
     "output_type": "stream",
     "name": "stdout",
     "text": [
      "Le nombre était : 64 et le votre : 20\n"
     ]
    }
   ],
   "source": [
    "print(\"Le nombre était :\", nb_aleat , \"et le votre :\" , your_nb)"
   ]
  },
  {
   "source": [
    "## Exercice 4\n",
    "\n",
    "### Ecrire dans une variable un chiffre compris entre 1 et 100"
   ],
   "cell_type": "markdown",
   "metadata": {}
  },
  {
   "cell_type": "code",
   "execution_count": 49,
   "metadata": {},
   "outputs": [],
   "source": [
    "expression_demandee = input(\"Rentrez une expression mathématique (ex : 2 + 2 ) \")"
   ]
  },
  {
   "source": [
    "### Evaluer l'expression et afficher le résultat"
   ],
   "cell_type": "markdown",
   "metadata": {}
  },
  {
   "cell_type": "code",
   "execution_count": 50,
   "metadata": {},
   "outputs": [
    {
     "output_type": "stream",
     "name": "stdout",
     "text": [
      "4\n"
     ]
    }
   ],
   "source": [
    "print(eval(expression_demandee))"
   ]
  },
  {
   "source": [
    "## Exercice 5\n",
    "\n",
    "### Trouver les erreurs:\n",
    "\n",
    "1_new_variable = 156\n",
    "\n",
    "MON_TEXTE = ceci est mon texte\n",
    "\n",
    "\n",
    "\n",
    "Les variables ne respectent pas les regles de nomination de variables. \n",
    "\n",
    "La premiere commence par un nombre, la deuxième par une majuscule\n",
    "\n",
    "## Exercice 6\n",
    "\n",
    "### Demander à l'utilisateur un nombre entre 1 et 50"
   ],
   "cell_type": "markdown",
   "metadata": {}
  },
  {
   "cell_type": "code",
   "execution_count": 53,
   "metadata": {},
   "outputs": [],
   "source": [
    "nb = int(input(\"un nombre entre 1 et 50\"))"
   ]
  },
  {
   "source": [
    "### Ajouter 200"
   ],
   "cell_type": "markdown",
   "metadata": {}
  },
  {
   "cell_type": "code",
   "execution_count": 54,
   "metadata": {},
   "outputs": [],
   "source": [
    "nb += 200"
   ]
  },
  {
   "source": [
    "### Afficher le résultat"
   ],
   "cell_type": "markdown",
   "metadata": {}
  },
  {
   "cell_type": "code",
   "execution_count": 55,
   "metadata": {},
   "outputs": [
    {
     "output_type": "stream",
     "name": "stdout",
     "text": [
      "225\n"
     ]
    }
   ],
   "source": [
    "print(nb)"
   ]
  },
  {
   "source": [
    "# Fin du TD 1"
   ],
   "cell_type": "markdown",
   "metadata": {}
  }
 ]
}