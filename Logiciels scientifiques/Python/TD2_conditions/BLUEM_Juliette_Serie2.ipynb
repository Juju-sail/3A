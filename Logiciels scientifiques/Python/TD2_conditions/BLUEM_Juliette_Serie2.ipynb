{
 "metadata": {
  "language_info": {
   "codemirror_mode": {
    "name": "ipython",
    "version": 3
   },
   "file_extension": ".py",
   "mimetype": "text/x-python",
   "name": "python",
   "nbconvert_exporter": "python",
   "pygments_lexer": "ipython3",
   "version": "3.9.1-final"
  },
  "orig_nbformat": 2,
  "kernelspec": {
   "name": "python3",
   "display_name": "Python 3.9.1 64-bit",
   "metadata": {
    "interpreter": {
     "hash": "553fde94cf21fea3c15f46ca3b92f17d4d8765a9f325c0781d136ffdb5e73663"
    }
   }
  }
 },
 "nbformat": 4,
 "nbformat_minor": 2,
 "cells": [
  {
   "source": [
    "# TD 2\n",
    "\n",
    "## Exercice 1\n",
    "\n",
    "### Ecrire un programme qui teste la valeur du solde banquaire d'une personne et écrit un message en fonction de cette valeur"
   ],
   "cell_type": "markdown",
   "metadata": {}
  },
  {
   "cell_type": "code",
   "execution_count": 101,
   "metadata": {},
   "outputs": [
    {
     "output_type": "stream",
     "name": "stdout",
     "text": [
      "Vous êtes dans le rouge !\n"
     ]
    }
   ],
   "source": [
    "solde = -30\n",
    "if(solde<0) :\n",
    "    print(\"Vous êtes dans le rouge !\")\n",
    "elif(0<=solde<500) :\n",
    "    print(\"Vous avez entre 0 et 500 euros sur votre compte\")\n",
    "else :\n",
    "    print(\"Vous avez beaucoup de sous\")"
   ]
  },
  {
   "source": [
    "## Exercice 2\n",
    "\n",
    "### Ecrire un programme qui teste si un nombre est pair ou impair"
   ],
   "cell_type": "markdown",
   "metadata": {}
  },
  {
   "cell_type": "code",
   "execution_count": 102,
   "metadata": {},
   "outputs": [
    {
     "output_type": "stream",
     "name": "stdout",
     "text": [
      "ok\n"
     ]
    }
   ],
   "source": [
    "nombre = 10\n",
    "if(nombre/2 == nombre//2) :\n",
    "    print(\"ok\")\n",
    "else :\n",
    "    print(\"pasOk\")\n"
   ]
  },
  {
   "source": [
    "## Exercice 3\n",
    "### Ecrire un petit programme qui teste si un nombre est nul, positif ou négatif en utilisant une nested conditional"
   ],
   "cell_type": "markdown",
   "metadata": {}
  },
  {
   "cell_type": "code",
   "execution_count": 103,
   "metadata": {},
   "outputs": [
    {
     "output_type": "stream",
     "name": "stdout",
     "text": [
      "nombre negatif\n"
     ]
    }
   ],
   "source": [
    "nb3 = -10\n",
    "if(nb3<0):\n",
    "    print(\"nombre negatif\")\n",
    "else:\n",
    "    if(nb3==0):\n",
    "        print(\"nombre null\")\n",
    "    else:\n",
    "        print(\"nombre positif\")"
   ]
  },
  {
   "source": [
    "## Exercice 4\n",
    "### Ecrire dans une variable un chiffre compris entre 1 et 100."
   ],
   "cell_type": "markdown",
   "metadata": {}
  },
  {
   "cell_type": "code",
   "execution_count": 104,
   "metadata": {},
   "outputs": [],
   "source": [
    "from random import *\n",
    "le_nb_a_deviner = int(random() * 100)\n",
    "# print(le_nb_a_deviner)"
   ]
  },
  {
   "source": [
    "### Demander à l'utilisateur un chiffre compris entre 1 et 100 et l'affecter à une nouvelle variable"
   ],
   "cell_type": "markdown",
   "metadata": {}
  },
  {
   "cell_type": "code",
   "execution_count": 115,
   "metadata": {},
   "outputs": [
    {
     "output_type": "stream",
     "name": "stdout",
     "text": [
      "on continue !\n"
     ]
    }
   ],
   "source": [
    "try :\n",
    "    nb_utilisateur = int(float(input(\"Choisissez un nombre entier entre 0 et 100 (sinon vous perdez)\")))\n",
    "except :\n",
    "    nb_utilisateur = -10\n",
    "if(nb_utilisateur>100 or nb_utilisateur<0):\n",
    "    print(\"Vous avez perdu\")\n",
    "    perdu = True\n",
    "else :\n",
    "    print(\"On continue !\")\n",
    "    perdu = False"
   ]
  },
  {
   "source": [
    "### Afficher si le chiffre a été deviné si non, demandez à l'utilisateur de recommencer"
   ],
   "cell_type": "markdown",
   "metadata": {}
  },
  {
   "cell_type": "code",
   "execution_count": 116,
   "metadata": {},
   "outputs": [
    {
     "output_type": "stream",
     "name": "stdout",
     "text": [
      "Avec : 55 Vous avez échoué 1 fois, réessayer !\n",
      "Avec : 86 Vous avez échoué 2 fois, réessayer !\n",
      "Vous avez perdu. Veuillez respecter les consignes la prochaine fois\n",
      "le nombre était : 15\n"
     ]
    }
   ],
   "source": [
    "for i in range(0, 4):\n",
    "    if(perdu) :\n",
    "        print(\"Vous avez perdu. Veuillez respecter les consignes la prochaine fois.\")\n",
    "        break\n",
    "    else :\n",
    "        if(le_nb_a_deviner == nb_utilisateur):\n",
    "            print(\"Vous avez trouvé le nombre recherché\")\n",
    "            break\n",
    "        else:\n",
    "            if(i<3):\n",
    "                print(\"Avec :\",nb_utilisateur,\", vous avez échoué\", i+1, \"fois, réessayez !\")\n",
    "                try :\n",
    "                    nb_utilisateur = int(float(input(\"Choisissez un nombre entier entre 0 et 100\")))\n",
    "                except :\n",
    "                    nb_utilisateur=105\n",
    "                if(nb_utilisateur>100 or nb_utilisateur<0) :\n",
    "                    perdu = True\n",
    "                else :\n",
    "                    perdu = False\n",
    "            else :\n",
    "                print(\"Avec :\",nb_utilisateur,\", vous avez échoué\", i+1, \"fois, c'est perdu !\")\n",
    "print(\"le nombre était :\", le_nb_a_deviner)\n",
    "    "
   ]
  },
  {
   "cell_type": "code",
   "execution_count": null,
   "metadata": {},
   "outputs": [],
   "source": []
  },
  {
   "source": [
    "# Fin du TD 2"
   ],
   "cell_type": "markdown",
   "metadata": {}
  }
 ]
}