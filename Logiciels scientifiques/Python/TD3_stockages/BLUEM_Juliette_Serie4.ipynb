{
 "metadata": {
  "language_info": {
   "codemirror_mode": {
    "name": "ipython",
    "version": 3
   },
   "file_extension": ".py",
   "mimetype": "text/x-python",
   "name": "python",
   "nbconvert_exporter": "python",
   "pygments_lexer": "ipython3",
   "version": "3.9.1-final"
  },
  "orig_nbformat": 2,
  "kernelspec": {
   "name": "python3",
   "display_name": "Python 3.9.1 64-bit",
   "metadata": {
    "interpreter": {
     "hash": "553fde94cf21fea3c15f46ca3b92f17d4d8765a9f325c0781d136ffdb5e73663"
    }
   }
  }
 },
 "nbformat": 4,
 "nbformat_minor": 2,
 "cells": [
  {
   "source": [
    "# TD4\n",
    "\n",
    "## Exercice 1\n",
    "\n",
    "### Ecrire un programme qui permet d'afficher les tables de multiplication"
   ],
   "cell_type": "markdown",
   "metadata": {}
  },
  {
   "cell_type": "code",
   "execution_count": 6,
   "metadata": {},
   "outputs": [
    {
     "output_type": "stream",
     "name": "stdout",
     "text": [
      "1 x 56 = 56\n2 x 56 = 112\n3 x 56 = 168\n4 x 56 = 224\n5 x 56 = 280\n6 x 56 = 336\n7 x 56 = 392\n8 x 56 = 448\n9 x 56 = 504\n10 x 56 = 560\n"
     ]
    }
   ],
   "source": [
    "try :\n",
    "    nb = int(input(\"Choisissez un nombre entier\"))\n",
    "    for i in range(1,11):\n",
    "        print(i, \"x\", nb, \"=\", i*nb)\n",
    "except :\n",
    "    print(\"Rentrez un NOMBRE ENTIER !\")"
   ]
  },
  {
   "source": [
    "## Exercice 2\n",
    "\n",
    "### Ecrire un programme de \"login\"\n",
    "\n",
    "Le programme demande à l'utilisateur son nom\n",
    "\n",
    "Si l'utilisateur existe alors demander son mot de passe.\n",
    "\n",
    "Si mot de passe correct alors écrire /Access Granted/\n"
   ],
   "cell_type": "markdown",
   "metadata": {}
  },
  {
   "cell_type": "code",
   "execution_count": 7,
   "metadata": {},
   "outputs": [
    {
     "output_type": "stream",
     "name": "stdout",
     "text": [
      "Erreur mdp n° 1\n",
      "/Access Granted/\n"
     ]
    }
   ],
   "source": [
    "connexions = {\"Juju\" : \"Reveil\", \"Anto\": \"Tigrou\", \"Guyal\" : \"Calendrier\"}\n",
    "\n",
    "nom = input(\"Rentrez votre nom d'utilisateur\")\n",
    "for i in range(0,3) :\n",
    "    try :\n",
    "        connexions[nom]\n",
    "        mdp = input(\"Votre de mot de passe\")\n",
    "        if(mdp == connexions[nom]):\n",
    "            print(\"/Access Granted/\")\n",
    "            break\n",
    "        else :\n",
    "            print(\"Erreur mdp n°\", i+1)\n",
    "    except :\n",
    "        print(\"Erreur de nom\")\n",
    "        break\n",
    "\n"
   ]
  },
  {
   "source": [
    "## Exercice 3\n",
    "\n",
    "Soit le texte suivant contenant une liste de livres\n",
    "\n",
    "liste_brute = \"\"\" The Beetle Horde / Victor Rousseau The Cave Of Horror / Captain S. P. Meek Phantoms Of Reality / Ray Cummings The Stolen Mind / M. L. Staley Compensation / C. V. Tench Tanks / Murray Leinster\n",
    "Invisible Death / Anthony Pelcher Old Crompton's Secret / Harl Vincent Spawn of the Stars / Charles Willard Diffin The Corpse on the Grating / Hugh B. Cave Creatures of the Light / Sophie Wenzel Ellis Into Space / S. P.\n",
    "Meek The Beetle Horde (Part 2 of 2) / Victor Rousseau Mad Music / Anthony Pelcher The Thief of Time / S. P. Meek Cold Light / S. P. Meek Brigands of the Moon (Part 1 of 4) / Ray Cummings The Soul Master / Will\n",
    "Smith and R. J. Robbins From the Ocean's Depths / Sewell Peaslee Wright Vandals of the Stars / A. T. Locke The Man Who Was Dead / Thomas H. Knight Monsters of Moyen / Arthur J. Burks Vampires of Venus /\n",
    "Anthony Pelcher Brigands of the Moon (Part 2 of 4) / Ray Cummings The Soul Snatcher / Tom Curry The Ray of Madness / S. P. Meek Into the Ocean's Depths / Sewell Peaslee Wright Murder Madness (Part 1 of 4) /\n",
    "Murray Leinster Brigands of the Moon (Part 3 of 4) / Ray Cummings The Jovian Jest / Lilith Lorraine The Atom-Smasher / Victor Rousseau Out of the Dreadful Depths / Charles Willard Diffin Murder Madness (Part 2 of\n",
    "4) / Murray Leinster The Cavern World / James P. Olsen Brigands of the Moon (Part 4 of 4) / Ray Cummings Giants of the Ray / Tom Curry The Moon Master / Charles Willard Diffin Beyond the Heaviside Layer / S. P.\n",
    "Meek Earth, the Marauder (Part 1 of 3) / Arthur J. Burks From an Amber Block / Tom Curry The Terror of Air-Level Six / Harl Vincent The Forgotten Planet / Sewell Peaslee Wright The Power and the Glory / Charles\n",
    "Willard Diffin Murder Madness (Part 3 of 4) / Murray Leinster \"\"\"\n",
    "\n",
    "Le problème est que ce texte n'est pas utilisable tel quel. Il va falloir le retravailler !\n",
    "\n",
    "### Créer un dictionnaire, avec comme clé l'auteur et comme valeur le nom du livre \n",
    "### Puis afficher le dictionnaire"
   ],
   "cell_type": "markdown",
   "metadata": {}
  },
  {
   "cell_type": "code",
   "execution_count": 2,
   "metadata": {},
   "outputs": [],
   "source": [
    "liste_brute = \"\"\"The Beetle Horde / Victor Rousseau \n",
    "The Cave Of Horror / Captain S. P. Meek \n",
    "Phantoms Of Reality / Ray Cummings \n",
    "The Stolen Mind / M. L. Staley \n",
    "Compensation / C. V. Tench \n",
    "Tanks / Murray Leinster \n",
    "Invisible Death / Anthony Pelcher \n",
    "Old Crompton's Secret / Harl Vincent \n",
    "Spawn of the Stars / Charles Willard \n",
    "Diffin The Corpse on the Grating / Hugh B. Cave \n",
    "Creatures of the Light / Sophie Wenzel \n",
    "Ellis Into Space / S. P. Meek \n",
    "The Beetle Horde (Part 2 of 2) / Victor Rousseau \n",
    "Mad Music / Anthony Pelcher \n",
    "The Thief of Time / S. P. Meek \n",
    "Cold Light / S. P. Meek \n",
    "Brigands of the Moon (Part 1 of 4) / Ray Cummings \n",
    "The Soul Master / Will Smith and R. J. Robbins \n",
    "From the Ocean's Depths / Sewell Peaslee Wright \n",
    "Vandals of the Stars / A. T. Locke \n",
    "The Man Who Was Dead / Thomas H. Knight \n",
    "Monsters of Moyen / Arthur J. Burks \n",
    "Vampires of Venus / Anthony Pelcher \n",
    "Brigands of the Moon (Part 2 of 4) / Ray Cummings \n",
    "The Soul Snatcher / Tom Curry \n",
    "The Ray of Madness / S. P. Meek \n",
    "Into the Ocean's Depths / Sewell Peaslee Wright \n",
    "Murder Madness (Part 1 of 4) / Murray Leinster \n",
    "Brigands of the Moon (Part 3 of 4) / Ray Cummings \n",
    "The Jovian Jest / Lilith Lorraine \n",
    "The Atom-Smasher / Victor Rousseau Out of the \n",
    "Dreadful Depths / Charles Willard Diffin \n",
    "Murder Madness (Part 2 of 4) / Murray Leinster \n",
    "The Cavern World / James P. Olsen \n",
    "Brigands of the Moon (Part 4 of 4) / Ray Cummings \n",
    "Giants of the Ray / Tom Curry \n",
    "The Moon Master / Charles Willard Diffin \n",
    "Beyond the Heaviside Layer / S. P. Meek \n",
    "Earth, the Marauder (Part 1 of 3) / Arthur J. Burks \n",
    "From an Amber Block / Tom Curry \n",
    "The Terror of Air-Level Six / Harl Vincent \n",
    "The Forgotten Planet / Sewell Peaslee Wright \n",
    "The Power and the Glory / Charles Willard Diffin \n",
    "Murder Madness (Part 3 of 4) / Murray Leinster \"\"\"\n",
    "\n"
   ]
  },
  {
   "cell_type": "code",
   "execution_count": 13,
   "metadata": {
    "tags": []
   },
   "outputs": [
    {
     "output_type": "stream",
     "name": "stdout",
     "text": [
      "{'The Beetle Horde ': ' Victor Rousseau ', 'The Cave Of Horror ': ' Captain S. P. Meek ', 'Phantoms Of Reality ': ' Ray Cummings ', 'The Stolen Mind ': ' M. L. Staley ', 'Compensation ': ' C. V. Tench ', 'Tanks ': ' Murray Leinster ', 'Invisible Death ': ' Anthony Pelcher ', \"Old Crompton's Secret \": ' Harl Vincent ', 'Spawn of the Stars ': ' Charles Willard ', 'Diffin The Corpse on the Grating ': ' Hugh B. Cave ', 'Creatures of the Light ': ' Sophie Wenzel ', 'Ellis Into Space ': ' S. P. Meek ', 'The Beetle Horde (Part 2 of 2) ': ' Victor Rousseau ', 'Mad Music ': ' Anthony Pelcher ', 'The Thief of Time ': ' S. P. Meek ', 'Cold Light ': ' S. P. Meek ', 'Brigands of the Moon (Part 1 of 4) ': ' Ray Cummings ', 'The Soul Master ': ' Will Smith and R. J. Robbins ', \"From the Ocean's Depths \": ' Sewell Peaslee Wright ', 'Vandals of the Stars ': ' A. T. Locke ', 'The Man Who Was Dead ': ' Thomas H. Knight ', 'Monsters of Moyen ': ' Arthur J. Burks ', 'Vampires of Venus ': ' Anthony Pelcher ', 'Brigands of the Moon (Part 2 of 4) ': ' Ray Cummings ', 'The Soul Snatcher ': ' Tom Curry ', 'The Ray of Madness ': ' S. P. Meek ', \"Into the Ocean's Depths \": ' Sewell Peaslee Wright ', 'Murder Madness (Part 1 of 4) ': ' Murray Leinster ', 'Brigands of the Moon (Part 3 of 4) ': ' Ray Cummings ', 'The Jovian Jest ': ' Lilith Lorraine ', 'The Atom-Smasher ': ' Victor Rousseau Out of the ', 'Dreadful Depths ': ' Charles Willard Diffin ', 'Murder Madness (Part 2 of 4) ': ' Murray Leinster ', 'The Cavern World ': ' James P. Olsen ', 'Brigands of the Moon (Part 4 of 4) ': ' Ray Cummings ', 'Giants of the Ray ': ' Tom Curry ', 'The Moon Master ': ' Charles Willard Diffin ', 'Beyond the Heaviside Layer ': ' S. P. Meek ', 'Earth, the Marauder (Part 1 of 3) ': ' Arthur J. Burks ', 'From an Amber Block ': ' Tom Curry ', 'The Terror of Air-Level Six ': ' Harl Vincent ', 'The Forgotten Planet ': ' Sewell Peaslee Wright ', 'The Power and the Glory ': ' Charles Willard Diffin ', 'Murder Madness (Part 3 of 4) ': ' Murray Leinster '}\n\n taille dictionaire : 44\n\n test de reconaissance (attentions aux espaces) :  Victor Rousseau \n"
     ]
    }
   ],
   "source": [
    "table = liste_brute.split(\"\\n\")\n",
    "bigTable = []\n",
    "dictionnaire = {}\n",
    "for i in range(0,len(table)):\n",
    "    ligne = table[i].split('/')\n",
    "    bigTable.append(ligne)\n",
    "for i in range(0, len(table)):\n",
    "    dictionnaire[bigTable[i][0]] = bigTable[i][1]\n",
    "print(dictionnaire)\n",
    "print(\"\\n taille dictionaire :\", len(dictionnaire))\n",
    "print(\"\\n test de reconaissance (attentions aux espaces) :\", dictionnaire['The Beetle Horde '])"
   ]
  },
  {
   "source": [
    "# Fin du TD4"
   ],
   "cell_type": "markdown",
   "metadata": {}
  }
 ]
}