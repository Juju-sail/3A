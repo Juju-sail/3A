{
 "metadata": {
  "language_info": {
   "codemirror_mode": {
    "name": "ipython",
    "version": 3
   },
   "file_extension": ".py",
   "mimetype": "text/x-python",
   "name": "python",
   "nbconvert_exporter": "python",
   "pygments_lexer": "ipython3",
   "version": "3.9.1-final"
  },
  "orig_nbformat": 2,
  "kernelspec": {
   "name": "python3",
   "display_name": "Python 3.9.1 64-bit",
   "metadata": {
    "interpreter": {
     "hash": "553fde94cf21fea3c15f46ca3b92f17d4d8765a9f325c0781d136ffdb5e73663"
    }
   }
  }
 },
 "nbformat": 4,
 "nbformat_minor": 2,
 "cells": [
  {
   "source": [
    "# TD3\n",
    "\n",
    "## Exercice 1\n",
    "\n",
    "### Soit la liste suivante\n",
    "\n",
    "nombres_aleatoires = 55, 47, 55, 24, 10, 95, 79, 76, 4, 31, 99, 39, 34, 38, 66, 25, 23, 48, 94, 96, 95, 4, 25, 93, 12, 90, 45, 55, 70, 51"
   ],
   "cell_type": "markdown",
   "metadata": {}
  },
  {
   "cell_type": "code",
   "execution_count": 1,
   "metadata": {},
   "outputs": [
    {
     "output_type": "stream",
     "name": "stdout",
     "text": [
      "Dernier élément : 51\nDixème élément : 31\nEn position 10 la valeur est : 99\nDeuxième méthode : \nEn position 10 la valeur est : 99\nDu cinquième élément au dernier : [10, 95, 79, 76, 4, 31, 99, 39, 34, 38, 66, 25, 23, 48, 94, 96, 95, 4, 25, 93, 12, 90, 45, 55, 70, 51]\nDu premier élément au troisième : [55, 47, 55]\n"
     ]
    }
   ],
   "source": [
    "nombres_aleatoires = [55, 47, 55, 24, 10, 95, 79, 76, 4, 31, 99, 39, 34, 38, 66, 25, 23, 48, 94, 96, 95, 4, 25, 93, 12, 90, 45, 55, 70, 51]\n",
    "print(\"Dernier élément :\", nombres_aleatoires[-1])\n",
    "print(\"Dixème élément :\", nombres_aleatoires[9])\n",
    "for i in range(0, len(nombres_aleatoires)) :\n",
    "    if(nombres_aleatoires[i] == 99):\n",
    "        print(\"En position\", i, \"la valeur est :\", nombres_aleatoires[i])\n",
    "print(\"Deuxième méthode : \")\n",
    "print(\"En position\", nombres_aleatoires.index(99), \"la valeur est :\", nombres_aleatoires[nombres_aleatoires.index(99)])\n",
    "print(\"Du cinquième élément au dernier :\", nombres_aleatoires[4::])\n",
    "print(\"Du premier élément au troisième :\", nombres_aleatoires[:3])"
   ]
  },
  {
   "source": [
    "## Exercice 2\n",
    "\n",
    "### Le code morse est un code qui permet de transférer du texte l'aide d'impulsions courtes et longues à l'aide de signaux lumineux ou radios. Vous devez écrire un dictionnaire qui permet de traduire du code alphabétique en code morse.\n"
   ],
   "cell_type": "markdown",
   "metadata": {}
  },
  {
   "cell_type": "code",
   "execution_count": 2,
   "metadata": {},
   "outputs": [
    {
     "output_type": "stream",
     "name": "stdout",
     "text": [
      "JULIETTE => .--- ..- .-.. .. . - - .\n"
     ]
    }
   ],
   "source": [
    "conversion = {'A' : \".-\", 'B' : \"-...\", 'C' : \"-.-.\", 'D' : \"-..\", 'E' : \".\", 'F' : \"..-.\", 'G' : \"--.\", 'H' : \"....\", 'I' : \"..\", 'J' : \".---\", 'K' : \"-.-\", 'L' : \".-..\", 'M' : \"--\", 'N' : \"-.\", 'O' : \"---\", 'P' : \".--.\", 'Q' : \"--.-\", 'R' : \".-.\", 'S' : \"...\", 'T' : \"-\", 'U' : \"..-\", 'V' : \"...-\", 'W' : \".--\", 'X' : \"-..-\", 'Y' : \"-.--\", 'Z' : \"--..\"}\n",
    "print(\"JULIETTE =>\", conversion['J'], conversion['U'], conversion['L'], conversion['I'], conversion['E'], conversion['T'], conversion['T'], conversion['E'])"
   ]
  },
  {
   "source": [
    "## Exercice 3\n",
    "\n",
    "### Ecrire un programme qui permet de convertir une liste de caractères en string."
   ],
   "cell_type": "markdown",
   "metadata": {}
  },
  {
   "cell_type": "code",
   "execution_count": 3,
   "metadata": {},
   "outputs": [
    {
     "output_type": "stream",
     "name": "stdout",
     "text": [
      "Juliette a cours de Python\n"
     ]
    }
   ],
   "source": [
    "texte = [\"Juliette\", \"a\", \"cours\", \"de\", \"Python\"]\n",
    "print(\" \".join(texte))"
   ]
  },
  {
   "source": [
    "### Ecrire un programme qui vérifie si une liste est vide."
   ],
   "cell_type": "markdown",
   "metadata": {}
  },
  {
   "cell_type": "code",
   "execution_count": 4,
   "metadata": {},
   "outputs": [
    {
     "output_type": "stream",
     "name": "stdout",
     "text": [
      "La liste contient : [12]\n"
     ]
    }
   ],
   "source": [
    "videOuPasVide = [12]\n",
    "if(not videOuPasVide) :\n",
    "    print(\"La liste est vide\")\n",
    "else :\n",
    "    print(\"La liste contient :\", videOuPasVide)"
   ]
  },
  {
   "source": [
    "## Exercice 4\n",
    "\n",
    "Soit le string suivant\n",
    "texte = \"\"\"J'ai#vu#tant#de#choses#que#vous,#humains,#ne#pourriez#pas#croire.#De#grands#navires#en#feu#surgissant#de#l'épaule#d'Orion.\n",
    "J'ai#vu#des#rayons#fabuleux,#des#rayons#C,#briller#dans#l'ombre#de#la#porte#de#Tannhäuser.#Tous#ces#moments#se#perdront#dans#l'oubli#comme#les#larmes#dans#la#pluie.#Il#est#t\n",
    "\"\"\"\n",
    "\n",
    "### Trouver la fonction qui permet de supprimer le symbole \"#\" qui s'est inséré dans notre texte."
   ],
   "cell_type": "markdown",
   "metadata": {}
  },
  {
   "cell_type": "code",
   "execution_count": 5,
   "metadata": {},
   "outputs": [
    {
     "output_type": "stream",
     "name": "stdout",
     "text": [
      "J'ai vu tant de choses que vous, humains, ne pourriez pas croire. De grands navires en feu surgissant de l'épaule d'Orion. J'ai vu des rayons fabuleux, des rayons C, briller dans l'ombre de la porte de Tannhäuser. Tous ces moments se perdront dans l'oubli comme les larmes dans la pluie. Il est\n"
     ]
    }
   ],
   "source": [
    "chaine = \"J'ai#vu#tant#de#choses#que#vous,#humains,#ne#pourriez#pas#croire.#De#grands#navires#en#feu#surgissant#de#l'épaule#d'Orion. J'ai#vu#des#rayons#fabuleux,#des#rayons#C,#briller#dans#l'ombre#de#la#porte#de#Tannhäuser.#Tous#ces#moments#se#perdront#dans#l'oubli#comme#les#larmes#dans#la#pluie.#Il#est\"\n",
    "chaineSepare = chaine.split('#')\n",
    "print(' '.join(chaineSepare))"
   ]
  },
  {
   "source": [
    "# Fin du TD3"
   ],
   "cell_type": "markdown",
   "metadata": {}
  }
 ]
}